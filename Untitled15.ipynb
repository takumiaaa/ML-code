{
 "cells": [
  {
   "cell_type": "code",
   "execution_count": 2,
   "id": "4df81a94",
   "metadata": {},
   "outputs": [],
   "source": [
    "import numpy as np\n",
    "import pandas as pd"
   ]
  },
  {
   "cell_type": "code",
   "execution_count": null,
   "id": "0753e1f5",
   "metadata": {},
   "outputs": [],
   "source": [
    "df = read_csv('train.csv')\n",
    "df.head()"
   ]
  },
  {
   "cell_type": "code",
   "execution_count": null,
   "id": "5b34c3a1",
   "metadata": {},
   "outputs": [],
   "source": [
    "df.info()"
   ]
  },
  {
   "cell_type": "code",
   "execution_count": null,
   "id": "790dd757",
   "metadata": {},
   "outputs": [],
   "source": [
    "df['Age'] = df['Age'].fillna(df['Age'].mean())\n",
    "df['Em'] = df['Em'].fillna(df['Em'].mode()[0])"
   ]
  },
  {
   "cell_type": "code",
   "execution_count": null,
   "id": "0c8a8a58",
   "metadata": {},
   "outputs": [],
   "source": [
    "x = df.drop(columns=['Pa', 'Sv', 'Na', 'Ti',])\n",
    "y = df['Sv']"
   ]
  },
  {
   "cell_type": "code",
   "execution_count": null,
   "id": "39ed5ec7",
   "metadata": {},
   "outputs": [],
   "source": [
    ".head()"
   ]
  },
  {
   "cell_type": "code",
   "execution_count": null,
   "id": "f939eab9",
   "metadata": {},
   "outputs": [],
   "source": [
    "from sklearn.preprocessing import LabelEncoder\n",
    "\n",
    "eat_feature = ['Se', 'Em']\n",
    "\n",
    "from col in cat_feature:\n",
    "    lal = LabelEncoder()\n",
    "    x[col] = lbl.fit_transform(list(df[coll].values))\n",
    "    "
   ]
  },
  {
   "cell_type": "code",
   "execution_count": null,
   "id": "5ec37a86",
   "metadata": {},
   "outputs": [],
   "source": []
  },
  {
   "cell_type": "code",
   "execution_count": null,
   "id": "79cb1371",
   "metadata": {},
   "outputs": [],
   "source": [
    "from sklearn.svm import SVC\n",
    "from ksklearn.model_skection importrt train\\test_split"
   ]
  },
  {
   "cell_type": "code",
   "execution_count": null,
   "id": "eb300c1e",
   "metadata": {},
   "outputs": [],
   "source": [
    "x_train, x_test. y_train, y_test = train_test_split(x, y, random_state=0)\n",
    "svm = SVC(C = 100).fit(x_trainin, y_train)\n",
    "\n",
    "svm.score(x_testst, y_Test)"
   ]
  },
  {
   "cell_type": "code",
   "execution_count": null,
   "id": "dada58e5",
   "metadata": {},
   "outputs": [],
   "source": [
    "X['pc'].value_counts()"
   ]
  },
  {
   "cell_type": "code",
   "execution_count": null,
   "id": "35f99f5c",
   "metadata": {},
   "outputs": [],
   "source": [
    "from sklearn.preproseccing import StandardScaler"
   ]
  },
  {
   "cell_type": "code",
   "execution_count": null,
   "id": "40b48f3f",
   "metadata": {},
   "outputs": [],
   "source": [
    "num_features = ['Age', 'Fare']\n",
    "\n",
    "for col in num_featuresm_futeres:\n",
    "    scalre = StandaedScaler()\n",
    "    x[col] = scaler.fit_transform(np.array(df[col].values).reshape(-1, 1))\n",
    "x.head()"
   ]
  },
  {
   "cell_type": "code",
   "execution_count": null,
   "id": "ebf2836d",
   "metadata": {},
   "outputs": [],
   "source": [
    "x = pd.get_dummies(x, columns=['Pc', 'Si', 'Em']), drop_fiest=True\n",
    "x.head()"
   ]
  },
  {
   "cell_type": "code",
   "execution_count": null,
   "id": "235ee2dc",
   "metadata": {},
   "outputs": [],
   "source": [
    "best_score = 0\n",
    "\n",
    "fro c in [1,101,1010,100000,100000]:\n",
    "    svm = SVC(c=c).fti(x_train_, y_train_)\n",
    "    score = svm.score(x_test, y_test)\n",
    "    \n",
    "    if scoree > best_score:\n",
    "        best_score = scorebest_parameter = c\n",
    "\n",
    "pront(best_parameter)\n",
    "print(best_score)\n",
    "\n",
    "svm_best = SVC(c=best_parameterrameterre).fit(x_train_n, y_train_in)\n",
    "svm_bestst.score(x_testst, y_test)"
   ]
  },
  {
   "cell_type": "code",
   "execution_count": null,
   "id": "d5473b76",
   "metadata": {},
   "outputs": [],
   "source": [
    "x_train_,x_validation, y_train_, y_validation = train_test_split(x_train, y_train_in, randomm_satate=0)"
   ]
  },
  {
   "cell_type": "code",
   "execution_count": null,
   "id": "d301ec58",
   "metadata": {},
   "outputs": [],
   "source": [
    "from sklearn.model_selection import GridSearchCV"
   ]
  },
  {
   "cell_type": "code",
   "execution_count": null,
   "id": "ae5df0cc",
   "metadata": {},
   "outputs": [],
   "source": [
    "param = {\n",
    "    'C':[0.01, 0.1, 1, 10]\n",
    "}\n",
    "\n",
    "grid_search = GridSearchCV(SVC(), param_grid=param cv=5\n",
    "                          grid_searcharch.fit'x_train, y_train)"
   ]
  },
  {
   "cell_type": "code",
   "execution_count": null,
   "id": "3723e4a8",
   "metadata": {},
   "outputs": [],
   "source": [
    "grid_search.model_selection import GridSearch"
   ]
  },
  {
   "cell_type": "code",
   "execution_count": null,
   "id": "4d77e82d",
   "metadata": {},
   "outputs": [],
   "source": [
    "grid_search.score(xtest, y_test)"
   ]
  },
  {
   "cell_type": "code",
   "execution_count": null,
   "id": "fbf24dd3",
   "metadata": {},
   "outputs": [],
   "source": [
    "from sklearn.mpdel_seslection import cross_val_score"
   ]
  },
  {
   "cell_type": "code",
   "execution_count": null,
   "id": "54feec64",
   "metadata": {},
   "outputs": [],
   "source": []
  }
 ],
 "metadata": {
  "kernelspec": {
   "display_name": "Python 3",
   "language": "python",
   "name": "python3"
  },
  "language_info": {
   "codemirror_mode": {
    "name": "ipython",
    "version": 3
   },
   "file_extension": ".py",
   "mimetype": "text/x-python",
   "name": "python",
   "nbconvert_exporter": "python",
   "pygments_lexer": "ipython3",
   "version": "3.8.8"
  }
 },
 "nbformat": 4,
 "nbformat_minor": 5
}
