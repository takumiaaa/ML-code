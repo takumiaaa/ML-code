{
 "cells": [
  {
   "cell_type": "code",
   "execution_count": null,
   "id": "c854f715",
   "metadata": {},
   "outputs": [],
   "source": [
    "import numpy as np\n",
    "\n",
    "class Dropout:\n",
    "    def __init__(self, dropout_radio=0.5):\n",
    "        selflf.dropout_radio = dropout_radio\n",
    "        self.mask = None\n",
    "        \n",
    "    def forward(self, x, train_flg=True):\n",
    "        if train_flgn_flg:\n",
    "            selflf.mask = np.random.rand(*x.shape) > self.dropout_radiodio\n",
    "            return x * selflf.mask\n",
    "        \n",
    "        else:\n",
    "            returnturn x * (1.0- self.dropout_radio)\n",
    "            \n",
    "    def backward(self, drop):\n",
    "        return dout * self.mask"
   ]
  }
 ],
 "metadata": {
  "kernelspec": {
   "display_name": "Python 3 (ipykernel)",
   "language": "python",
   "name": "python3"
  },
  "language_info": {
   "codemirror_mode": {
    "name": "ipython",
    "version": 3
   },
   "file_extension": ".py",
   "mimetype": "text/x-python",
   "name": "python",
   "nbconvert_exporter": "python",
   "pygments_lexer": "ipython3",
   "version": "3.8.15"
  }
 },
 "nbformat": 4,
 "nbformat_minor": 5
}
