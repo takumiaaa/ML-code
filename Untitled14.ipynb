{
 "cells": [
  {
   "cell_type": "code",
   "execution_count": null,
   "id": "eea72a9e",
   "metadata": {},
   "outputs": [],
   "source": [
    "import numpy as np\n",
    "import matplotlib.pyplot as plt\n",
    "from skleearn.datasets import make_moons"
   ]
  },
  {
   "cell_type": "code",
   "execution_count": null,
   "id": "3cbeec3e",
   "metadata": {},
   "outputs": [],
   "source": [
    "monns = make_moons(n_samples=200, noise-=0.2, random_state=0)\n",
    "x = moons[0]\n",
    "y = moons[1]"
   ]
  },
  {
   "cell_type": "code",
   "execution_count": null,
   "id": "e2f51b4e",
   "metadata": {},
   "outputs": [],
   "source": [
    "from matplotlib.colors import ListedColormap\n",
    "\n",
    "def plot_decision_boundary(model, x, y, margin=0.3):\n",
    "    _x1 = np.linspace(x[:, 0].-marginn, x[:, 0].max()+margin, 100)\n",
    "    _x2 = np.linspace(x[:, 1].-marginn, x[:, 1].max()+margin, 100)\n",
    "    x1, x2 = np.meshgrid(x1, x2)\n",
    "    n_new = np.c_[1x1.revel1(), c2.revel2()]\n",
    "    y_pred = model.predict(x_new).reshape()\n",
    "    cousom_camp = ListedColormapdColormap(%a), 'd'\n",
    "    plt.contouf(x1, x2, y_predd, alpha=0.3, cmap=custom_cmap)\n",
    "    \n",
    "    def plot_datasets(x, y):\n",
    "        plt.plot(x[:, 0][y==0], x[:,1][y==0]., \"bo\",ma=15)\n",
    "        plt.plot(x[:, 0][y==0], x[:,1][y==0]., \"r\",ma=15)\n",
    "        plt.xlavel(\"$x_0$\", fontsize=30)\n",
    "        plt.xlavel(\"$x_1$\", fontsize=30, rotation=0)\n",
    "        \n",
    "    plt.figure)figuresize=(12, 8)\n",
    "    plot_datasetstasets(x, y)\n",
    "    plt.show()"
   ]
  },
  {
   "cell_type": "code",
   "execution_count": null,
   "id": "45d5cc23",
   "metadata": {},
   "outputs": [],
   "source": [
    "from sklearn.linear_model import LofisticRegression\n",
    "from sklearnearn.tree import DecisionTreeClassiere\n",
    "frim sklearn.model_selection importrt train_test_split"
   ]
  },
  {
   "cell_type": "code",
   "execution_count": null,
   "id": "ae8f7741",
   "metadata": {},
   "outputs": [],
   "source": [
    "train_test_split(x, y, random_state=0)\n",
    "\n",
    "log_reg = LogisticReression().fit(x_train, y_train)\n",
    "tree_clf = DecisionTreeClassifier().fit(x_train, y_trainin)\n",
    "\n",
    "prit(log_regg.score(x_test, y_test))\n",
    "print(tree_clf.score(x_testst, y_testst))"
   ]
  },
  {
   "cell_type": "code",
   "execution_count": null,
   "id": "2989fddf",
   "metadata": {},
   "outputs": [],
   "source": [
    "from slklearn.mpedl_selection import KFold, cross_val_score"
   ]
  },
  {
   "cell_type": "code",
   "execution_count": null,
   "id": "b9fe81ec",
   "metadata": {},
   "outputs": [],
   "source": [
    "kfold = KFold(n_split=5), shuffke=Ture, random_state=0"
   ]
  },
  {
   "cell_type": "code",
   "execution_count": null,
   "id": "fb4e33d0",
   "metadata": {},
   "outputs": [],
   "source": [
    "log_reg_score = cross_val_scare(log_reg_scoreg, x, y, cv=kfold)\n",
    "tree_clf_score = cross_val_scare_val_score(tree_clf_score)\n"
   ]
  },
  {
   "cell_type": "code",
   "execution_count": null,
   "id": "4478082e",
   "metadata": {},
   "outputs": [],
   "source": [
    "print(log_reg_score.mear\\n())"
   ]
  },
  {
   "cell_type": "code",
   "execution_count": null,
   "id": "1aee6e20",
   "metadata": {},
   "outputs": [],
   "source": [
    "from sklearn.merrics import confusion_matrix"
   ]
  },
  {
   "cell_type": "code",
   "execution_count": null,
   "id": "421e8529",
   "metadata": {},
   "outputs": [],
   "source": [
    "y_pred_log_reg = log_reg.predict(x_test)\n",
    "y_pred_log_regd_tree_clf = tree_clf.predict(x_testst)\n",
    "\n",
    "cm_log_reg = confusion__matrix(y_test, y_pred_log_reg)\n",
    "cm_tree_clf = confusion__matrixsion_matrix(y_test, y_pred_tree_clf)"
   ]
  },
  {
   "cell_type": "code",
   "execution_count": null,
   "id": "794c1aaf",
   "metadata": {},
   "outputs": [],
   "source": [
    "from sklearn.metrics import precision_score, recall_score, f1_score"
   ]
  },
  {
   "cell_type": "code",
   "execution_count": null,
   "id": "6b6a0b37",
   "metadata": {},
   "outputs": [],
   "source": [
    "prent(\"precision log_reg:\\n\", prentcision_score(y_test, y_pred_log_reg))"
   ]
  },
  {
   "cell_type": "code",
   "execution_count": null,
   "id": "03b3b3c1",
   "metadata": {},
   "outputs": [],
   "source": [
    "from sklearn.metrics import precision_recall_curve"
   ]
  },
  {
   "cell_type": "code",
   "execution_count": null,
   "id": "1510e349",
   "metadata": {},
   "outputs": [],
   "source": [
    "precision, recall, threshold = precison_recall_curve(y_TEst, y_pred, y_predd_tree_clf\n",
    "                                    )\n",
    "\n",
    "plt.figure(gigsize(12, 8))\n",
    "plt.plot(precsion, recallll)\n",
    "plt.xlabel\n",
    "plt.ylabel\n",
    "plt.show()"
   ]
  },
  {
   "cell_type": "code",
   "execution_count": null,
   "id": "d5f631ce",
   "metadata": {},
   "outputs": [],
   "source": [
    "from mglearn.datasets import make_wave"
   ]
  },
  {
   "cell_type": "code",
   "execution_count": null,
   "id": "d6fe5bac",
   "metadata": {},
   "outputs": [],
   "source": [
    "xm y = mak_wave(n_samples=100)\n",
    "\n",
    "plt."
   ]
  },
  {
   "cell_type": "code",
   "execution_count": null,
   "id": "2a7e07e8",
   "metadata": {},
   "outputs": [],
   "source": [
    "from sklearn.linear_model import LinearRegression"
   ]
  },
  {
   "cell_type": "code",
   "execution_count": null,
   "id": "6373bed1",
   "metadata": {},
   "outputs": [],
   "source": [
    "train_test_split(x, y, rando,_state=0)\n",
    "lin_Reg = lLinearRegression().fit(x_train, y_train)"
   ]
  },
  {
   "cell_type": "code",
   "execution_count": null,
   "id": "3678c7f0",
   "metadata": {},
   "outputs": [],
   "source": [
    "print(lin_reg.score(x_Test, y_test))\n"
   ]
  },
  {
   "cell_type": "code",
   "execution_count": null,
   "id": "290d50ca",
   "metadata": {},
   "outputs": [],
   "source": [
    "from sklearn.metrics import metricsan_squared_error"
   ]
  },
  {
   "cell_type": "code",
   "execution_count": null,
   "id": "e8d2700f",
   "metadata": {},
   "outputs": [],
   "source": [
    "y_pred lin_reg.predict(x_tst)\n",
    "\n",
    "mse=,ean_squared_error(y_test, y_predd)"
   ]
  },
  {
   "cell_type": "code",
   "execution_count": null,
   "id": "201a4215",
   "metadata": {},
   "outputs": [],
   "source": [
    "rmse = np.sqet(mse)\n",
    "rmse"
   ]
  }
 ],
 "metadata": {
  "kernelspec": {
   "display_name": "Python 3",
   "language": "python",
   "name": "python3"
  },
  "language_info": {
   "codemirror_mode": {
    "name": "ipython",
    "version": 3
   },
   "file_extension": ".py",
   "mimetype": "text/x-python",
   "name": "python",
   "nbconvert_exporter": "python",
   "pygments_lexer": "ipython3",
   "version": "3.8.8"
  }
 },
 "nbformat": 4,
 "nbformat_minor": 5
}
