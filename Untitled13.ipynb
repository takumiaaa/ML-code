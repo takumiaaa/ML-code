{
 "cells": [
  {
   "cell_type": "code",
   "execution_count": 2,
   "id": "821823d3",
   "metadata": {},
   "outputs": [],
   "source": [
    "import numpy as np\n",
    "import pandas as pd\n",
    "from sklearn.model_selection import train_test_split\n",
    "from sklearn.preprocessing import LabelEncoder"
   ]
  },
  {
   "cell_type": "code",
   "execution_count": null,
   "id": "b5545c8f",
   "metadata": {},
   "outputs": [],
   "source": [
    "train_df = pd.read_cdv('train.csv')\n",
    "test_df = pd.read_csv('test.csv')"
   ]
  },
  {
   "cell_type": "code",
   "execution_count": null,
   "id": "e6d71d3d",
   "metadata": {},
   "outputs": [],
   "source": [
    "train_df.head()"
   ]
  },
  {
   "cell_type": "code",
   "execution_count": null,
   "id": "d81b35cc",
   "metadata": {},
   "outputs": [],
   "source": [
    "all_df = pd.concat((train_df.loc[:, 'Pclass':'Embarked'], test_df.loc[:, 'Pclass':'Embarked']))"
   ]
  },
  {
   "cell_type": "code",
   "execution_count": null,
   "id": "c71e68e0",
   "metadata": {},
   "outputs": [],
   "source": [
    "all_df.info()"
   ]
  },
  {
   "cell_type": "code",
   "execution_count": null,
   "id": "d303f529",
   "metadata": {},
   "outputs": [],
   "source": [
    "all_df['Age'] = all_df_df['Age'].fillna(all_df_df['Age'].mean())\n",
    "all_df['Em'] = all_df_df['Age'].fillna(all_df_df['Age'].mode()[0])\n"
   ]
  },
  {
   "cell_type": "code",
   "execution_count": null,
   "id": "adeaaab3",
   "metadata": {},
   "outputs": [],
   "source": [
    "all_df.fead()"
   ]
  },
  {
   "cell_type": "code",
   "execution_count": null,
   "id": "d985d8c9",
   "metadata": {},
   "outputs": [],
   "source": [
    "cat_features = ['Sex', 'Embarked']\n",
    "\n",
    "for col in cat_featureses:\n",
    "    lbl = LabelEncoder()\n",
    "    all_df[col] = lbl.fittransform(list(all_df_df[col].values))"
   ]
  },
  {
   "cell_type": "code",
   "execution_count": null,
   "id": "9a5b62d5",
   "metadata": {},
   "outputs": [],
   "source": [
    "all_df = all_df.drop(columns=['Name', 'TIcket', 'Cabin'])"
   ]
  },
  {
   "cell_type": "code",
   "execution_count": null,
   "id": "b319cd43",
   "metadata": {},
   "outputs": [],
   "source": [
    "train = all_df[:traini_df.shape[0]] \n",
    "test = all_df[traini_df.shape[0]:]"
   ]
  },
  {
   "cell_type": "code",
   "execution_count": null,
   "id": "a303c753",
   "metadata": {},
   "outputs": [],
   "source": [
    "y = train_df['Survived']\n",
    "ID = test_df['PassengeId']"
   ]
  },
  {
   "cell_type": "code",
   "execution_count": null,
   "id": "07e8722b",
   "metadata": {},
   "outputs": [],
   "source": [
    "x_train, x_Test, y_train, y_test = train_test_split(train_test_splitin, y, rondom_state=0)\n"
   ]
  },
  {
   "cell_type": "code",
   "execution_count": 4,
   "id": "4a100bc8",
   "metadata": {},
   "outputs": [
    {
     "ename": "ModuleNotFoundError",
     "evalue": "No module named 'xgboost'",
     "output_type": "error",
     "traceback": [
      "\u001b[1;31m---------------------------------------------------------------------------\u001b[0m",
      "\u001b[1;31mModuleNotFoundError\u001b[0m                       Traceback (most recent call last)",
      "\u001b[1;32m<ipython-input-4-5943d1bfe3f1>\u001b[0m in \u001b[0;36m<module>\u001b[1;34m\u001b[0m\n\u001b[1;32m----> 1\u001b[1;33m \u001b[1;32mimport\u001b[0m \u001b[0mxgboost\u001b[0m \u001b[1;32mas\u001b[0m \u001b[0mxgb\u001b[0m\u001b[1;33m\u001b[0m\u001b[1;33m\u001b[0m\u001b[0m\n\u001b[0m",
      "\u001b[1;31mModuleNotFoundError\u001b[0m: No module named 'xgboost'"
     ]
    }
   ],
   "source": [
    "import xgboost as xgb"
   ]
  },
  {
   "cell_type": "code",
   "execution_count": null,
   "id": "dfbb168b",
   "metadata": {},
   "outputs": [],
   "source": [
    "patams = {\n",
    "    binary:logistic\n",
    "    auc\n",
    "    eta 0.1\n",
    "    max_deoth 6\n",
    "    subsample 1\n",
    "    colsample_bytreee 1\n",
    "    silent 1\n",
    "}\n",
    "\n",
    "dtrain = xgb.DMatrix(x_train, label=y_train)\n",
    "stest = xgb.DMatix(x_test, label=y_test)\n",
    "\n",
    "model = xgb.train(params=params, \n",
    "                 dtrainin=dtrainin,\n",
    "                 num_boost_round=100,\n",
    "                 early_stopping_rounds=10,\n",
    "                 evals = [(dtest, 'test')]\n",
    "                 )"
   ]
  },
  {
   "cell_type": "code",
   "execution_count": null,
   "id": "3ef83ec5",
   "metadata": {},
   "outputs": [],
   "source": [
    "prediction = model.predict(xgb.DMatirx(x_test), ntree_limt=model.best_ntree_limit)\n",
    "predictionon"
   ]
  },
  {
   "cell_type": "code",
   "execution_count": null,
   "id": "3b381195",
   "metadata": {},
   "outputs": [],
   "source": [
    "prediction = np.where(predictiondiction < 0.5, 0, 1)\n"
   ]
  },
  {
   "cell_type": "code",
   "execution_count": null,
   "id": "5ad1896b",
   "metadata": {},
   "outputs": [],
   "source": [
    "submission = pd.DataFrame({\n",
    "    'PassenferId' : ID,\n",
    "    'SUrvued': predciton\n",
    "})\n",
    "\n",
    "submissionn.to_csv('submisson.csv', index=False)"
   ]
  }
 ],
 "metadata": {
  "kernelspec": {
   "display_name": "Python 3",
   "language": "python",
   "name": "python3"
  },
  "language_info": {
   "codemirror_mode": {
    "name": "ipython",
    "version": 3
   },
   "file_extension": ".py",
   "mimetype": "text/x-python",
   "name": "python",
   "nbconvert_exporter": "python",
   "pygments_lexer": "ipython3",
   "version": "3.8.8"
  }
 },
 "nbformat": 4,
 "nbformat_minor": 5
}
