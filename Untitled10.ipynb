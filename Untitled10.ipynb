{
 "cells": [
  {
   "cell_type": "code",
   "execution_count": 2,
   "id": "96bbb86d",
   "metadata": {},
   "outputs": [],
   "source": [
    "import mglearn\n",
    "import numpy as np\n",
    "import matplotlib.pyplot as plt\n",
    "from sklearn.datasets import make_moons"
   ]
  },
  {
   "cell_type": "code",
   "execution_count": 4,
   "id": "423fb719",
   "metadata": {},
   "outputs": [
    {
     "data": {
      "text/plain": [
       "(array([[ 7.92357355e-01,  5.02648573e-01],\n",
       "        [ 1.63158315e+00, -4.63896705e-01],\n",
       "        [-6.71092674e-02,  2.67767057e-01],\n",
       "        [-1.04412427e+00, -1.82607610e-01],\n",
       "        [ 1.76704822e+00, -1.98609868e-01],\n",
       "        [ 1.90607398e+00, -7.10915927e-02],\n",
       "        [ 9.62192129e-01,  2.61986075e-01],\n",
       "        [ 8.86813848e-01, -4.84896235e-01],\n",
       "        [ 8.68935196e-01,  3.61092776e-01],\n",
       "        [ 1.15352953e+00, -5.72352929e-01],\n",
       "        [-3.70714493e-01,  7.21655833e-01],\n",
       "        [ 1.95523229e-01, -2.64439358e-01],\n",
       "        [ 1.80949658e+00, -1.94707885e-01],\n",
       "        [ 1.29046617e+00, -3.23893778e-01],\n",
       "        [-8.23662620e-01,  7.17643700e-01],\n",
       "        [ 9.85881879e-01,  1.96706218e-01],\n",
       "        [ 5.81943503e-01,  9.06311048e-01],\n",
       "        [ 2.76118902e-01, -2.87451069e-01],\n",
       "        [ 3.17284813e-01,  8.54200996e-01],\n",
       "        [-8.52697952e-01,  9.32383274e-01],\n",
       "        [ 1.97796688e+00,  1.04796611e-02],\n",
       "        [ 8.64249290e-01, -4.63242870e-01],\n",
       "        [ 2.57499053e-01,  1.00362573e+00],\n",
       "        [ 1.28213982e+00, -2.86519496e-01],\n",
       "        [-2.29884751e-01,  1.10576822e+00],\n",
       "        [ 2.29022777e-01,  1.42127683e-02],\n",
       "        [ 1.89450511e+00, -1.02565542e-01],\n",
       "        [ 1.86521084e+00,  1.96753138e-02],\n",
       "        [ 9.76884442e-02, -2.94749068e-02],\n",
       "        [ 1.03579202e-01,  8.07972963e-01],\n",
       "        [ 9.07891105e-01,  5.59120905e-01],\n",
       "        [-2.82483560e-01,  6.97029880e-01],\n",
       "        [ 9.49718195e-01, -4.29281289e-01],\n",
       "        [ 2.44475950e-02,  2.31178102e-01],\n",
       "        [ 7.62407790e-01,  7.01679032e-01],\n",
       "        [ 1.87210764e+00,  2.35600223e-01],\n",
       "        [ 4.77778324e-01, -1.64382571e-01],\n",
       "        [ 9.31783953e-01,  7.18760735e-02],\n",
       "        [-8.12884298e-01,  5.62089952e-01],\n",
       "        [-1.00520615e-01,  4.03688699e-01],\n",
       "        [ 5.82424127e-01, -4.68412597e-01],\n",
       "        [-3.77657209e-01,  8.52782368e-01],\n",
       "        [ 6.28019791e-01,  6.90115928e-01],\n",
       "        [ 1.21605162e-01,  3.53588146e-02],\n",
       "        [ 1.54344475e+00, -3.47674056e-01],\n",
       "        [-3.30952410e-01,  1.00049623e+00],\n",
       "        [ 1.06619086e+00,  1.33052899e-01],\n",
       "        [-7.14739658e-01,  6.19454519e-01],\n",
       "        [ 1.63968968e-01, -1.74798733e-01],\n",
       "        [ 9.33487565e-01, -4.40111162e-01],\n",
       "        [-7.63797985e-01,  8.26528213e-01],\n",
       "        [ 3.79557530e-01, -2.02301374e-01],\n",
       "        [ 2.07209923e+00,  3.52001635e-02],\n",
       "        [-8.11609003e-01,  5.10548387e-02],\n",
       "        [ 1.10617390e+00, -5.00532861e-01],\n",
       "        [ 7.83108552e-01,  6.23681079e-01],\n",
       "        [ 5.19314634e-01,  6.58138927e-01],\n",
       "        [ 1.15369377e+00, -5.06557246e-01],\n",
       "        [ 2.01456988e-01,  9.30021747e-01],\n",
       "        [-2.10315426e-01,  1.00700943e+00],\n",
       "        [ 2.56648130e-01, -2.48738776e-01],\n",
       "        [-1.03710314e+00,  2.30748836e-01],\n",
       "        [ 1.72148759e+00, -2.08345383e-01],\n",
       "        [ 9.24799914e-01,  4.94247065e-01],\n",
       "        [ 1.08911468e+00, -4.40836789e-01],\n",
       "        [-1.16502510e+00,  2.52779074e-01],\n",
       "        [-1.75082328e-01,  1.04012819e+00],\n",
       "        [ 1.51596993e+00, -3.52163413e-01],\n",
       "        [ 1.08086088e-01,  9.56975505e-01],\n",
       "        [-9.57080149e-01,  5.12567989e-01],\n",
       "        [ 6.47834107e-01, -4.86523627e-01],\n",
       "        [-1.02340159e+00,  5.31509316e-01],\n",
       "        [ 3.13142058e-01, -5.09754017e-01],\n",
       "        [-2.64515467e-01,  5.80672612e-01],\n",
       "        [ 8.04988122e-01, -3.71624596e-01],\n",
       "        [-9.46347813e-01,  4.42308479e-01],\n",
       "        [ 6.54970714e-02,  1.53680672e-01],\n",
       "        [ 9.50046139e-01,  3.89984583e-01],\n",
       "        [ 5.58939215e-01,  8.09836879e-01],\n",
       "        [ 7.25701640e-01, -2.80462884e-01],\n",
       "        [ 2.03083726e+00,  1.20170801e-01],\n",
       "        [-1.51916239e-01,  9.58192690e-01],\n",
       "        [ 6.33253492e-01, -5.64187401e-01],\n",
       "        [ 2.02082877e+00,  5.18545302e-01],\n",
       "        [ 1.42594806e-02,  2.31861328e-01],\n",
       "        [-3.31332409e-01,  1.13198237e+00],\n",
       "        [ 9.10306386e-01,  2.01247355e-02],\n",
       "        [-3.81510263e-01,  9.71275515e-01],\n",
       "        [ 6.14424862e-01, -3.85865038e-01],\n",
       "        [ 1.98240620e+00,  3.50624890e-01],\n",
       "        [ 4.57707908e-01,  8.94353953e-01],\n",
       "        [ 1.03913732e+00,  3.89233822e-01],\n",
       "        [ 1.98947025e+00,  1.83673590e-01],\n",
       "        [-6.70964946e-01,  7.93803059e-01],\n",
       "        [ 2.01955021e+00,  3.25289242e-01],\n",
       "        [ 1.77991353e+00, -1.11649028e-01],\n",
       "        [ 1.74859902e+00, -2.65552069e-01],\n",
       "        [ 4.91433723e-01, -2.73866374e-01],\n",
       "        [-1.06817822e+00,  2.97496839e-01],\n",
       "        [ 5.66538453e-02,  2.68583098e-02],\n",
       "        [ 1.33536908e+00, -6.97952991e-01],\n",
       "        [ 1.98056273e+00,  3.68945922e-01],\n",
       "        [ 8.04337273e-02,  1.15888076e+00],\n",
       "        [ 1.06172312e+00, -4.77816364e-02],\n",
       "        [-8.13810949e-01,  4.55071382e-01],\n",
       "        [ 1.11442338e-01,  3.94660905e-01],\n",
       "        [-9.84200490e-01,  8.13605456e-02],\n",
       "        [-5.03822097e-01,  1.02687047e+00],\n",
       "        [ 1.56581318e+00, -3.50444504e-01],\n",
       "        [ 2.00175240e-01,  8.29137530e-01],\n",
       "        [-5.89576838e-01,  7.91803173e-01],\n",
       "        [ 5.91096314e-02,  1.04656810e+00],\n",
       "        [-8.64462243e-02,  1.14115330e+00],\n",
       "        [-8.03546811e-01,  3.68143826e-01],\n",
       "        [ 9.36602233e-01,  3.52975983e-01],\n",
       "        [ 1.50812484e+00, -5.68831767e-01],\n",
       "        [ 4.67190679e-01,  6.57821620e-01],\n",
       "        [ 1.97192261e+00,  1.74641987e-01],\n",
       "        [ 6.03754895e-01, -4.01384358e-01],\n",
       "        [ 6.81080119e-01,  4.27058398e-01],\n",
       "        [ 8.53498280e-01,  6.23877292e-01],\n",
       "        [-6.34861812e-01,  5.27478557e-01],\n",
       "        [-6.96765462e-02,  2.99484737e-01],\n",
       "        [ 1.95489528e-02,  9.94207504e-01],\n",
       "        [-1.26266935e-01,  3.43883486e-01],\n",
       "        [-8.39199835e-01,  7.00314293e-01],\n",
       "        [ 8.46496761e-01, -1.16350315e-02],\n",
       "        [ 2.29736915e-01,  7.69345906e-02],\n",
       "        [ 1.25462994e+00, -3.92336633e-01],\n",
       "        [ 1.96824632e+00,  5.49696837e-01],\n",
       "        [ 1.02016913e+00,  3.53917835e-01],\n",
       "        [-5.31164727e-01,  6.92582395e-01],\n",
       "        [-1.10496675e+00,  4.86301545e-01],\n",
       "        [ 2.54223306e-01, -1.89474183e-01],\n",
       "        [ 1.25509219e+00, -3.32432682e-01],\n",
       "        [ 1.57148223e+00, -8.26665774e-02],\n",
       "        [ 1.11207737e+00, -3.29369368e-01],\n",
       "        [-1.05050177e+00,  1.81123803e-01],\n",
       "        [ 2.03731913e+00,  5.06268525e-01],\n",
       "        [ 8.37104705e-01,  4.38321722e-01],\n",
       "        [ 2.70944977e-02,  4.29302511e-02],\n",
       "        [-2.68526403e-02,  5.04722011e-01],\n",
       "        [ 4.47263472e-01,  9.95926194e-01],\n",
       "        [-4.78109868e-01,  9.94572554e-01],\n",
       "        [-4.04629660e-01,  8.86029986e-01],\n",
       "        [ 1.03118702e+00,  1.02021446e-01],\n",
       "        [ 2.67391648e-01,  1.15977827e-01],\n",
       "        [ 1.31563032e+00, -4.68055845e-01],\n",
       "        [ 2.72709481e-01,  1.06929344e+00],\n",
       "        [-2.42902398e-02,  1.56393942e-01],\n",
       "        [ 4.77795869e-01, -3.90843212e-01],\n",
       "        [ 1.68292595e+00, -4.60914204e-01],\n",
       "        [ 8.33302236e-01,  3.98915558e-01],\n",
       "        [ 3.27488923e-01,  8.78131092e-01],\n",
       "        [ 6.74827352e-01, -3.35549427e-01],\n",
       "        [-2.45527648e-01,  9.38992348e-01],\n",
       "        [ 1.28155163e+00, -4.76190226e-01],\n",
       "        [ 3.01408950e-01, -8.43203922e-02],\n",
       "        [ 5.80344402e-01,  1.01606800e+00],\n",
       "        [ 6.54257532e-01,  7.78195644e-01],\n",
       "        [ 2.18332379e-01,  2.39832599e-02],\n",
       "        [ 1.17599534e+00, -5.14188256e-01],\n",
       "        [ 6.53498000e-01,  8.42628380e-01],\n",
       "        [ 1.46494235e+00, -2.88413814e-01],\n",
       "        [ 4.50729150e-01, -4.81782194e-01],\n",
       "        [ 1.59955423e+00, -1.97918553e-02],\n",
       "        [ 4.23800432e-01,  8.61219660e-01],\n",
       "        [ 6.47861265e-01, -3.73026171e-01],\n",
       "        [ 1.54832195e+00, -3.82636573e-01],\n",
       "        [ 9.59507036e-01, -6.53322764e-01],\n",
       "        [ 6.22396337e-01,  8.80914616e-01],\n",
       "        [-1.14279515e+00,  5.33863108e-02],\n",
       "        [-9.68196502e-01,  5.38851311e-01],\n",
       "        [-6.91219117e-01,  4.43566916e-01],\n",
       "        [ 1.82600270e-01,  1.76667308e-02],\n",
       "        [ 9.34822203e-01, -3.97721167e-01],\n",
       "        [ 1.70786789e+00,  5.01289734e-01],\n",
       "        [-6.81686209e-01,  6.25964062e-01],\n",
       "        [-7.06439154e-01,  5.56250067e-01],\n",
       "        [ 5.01454747e-01,  7.38339946e-01],\n",
       "        [ 1.47648298e+00, -3.69367080e-01],\n",
       "        [-9.33946572e-01,  4.76649526e-01],\n",
       "        [ 1.91815067e+00,  2.06055971e-01],\n",
       "        [ 1.87199356e+00, -3.36720051e-01],\n",
       "        [ 1.94311158e+00,  3.13223536e-01],\n",
       "        [ 3.42365360e-01,  1.01614096e+00],\n",
       "        [-7.12211574e-02,  8.20286056e-01],\n",
       "        [ 8.38200245e-01, -5.80104512e-01],\n",
       "        [-8.34317448e-01,  3.91907169e-01],\n",
       "        [-6.52120149e-01,  7.85982383e-01],\n",
       "        [-9.31767725e-01,  4.03435241e-01],\n",
       "        [ 4.33542139e-01,  9.55743482e-01],\n",
       "        [ 8.31174752e-01,  4.53839488e-01],\n",
       "        [ 9.20525579e-01,  2.60496062e-01],\n",
       "        [-3.67116967e-02,  3.42448285e-01],\n",
       "        [-5.45442229e-01,  8.70811316e-01],\n",
       "        [ 1.79020519e+00,  2.09022313e-01],\n",
       "        [ 2.09486633e-01, -7.84617937e-04],\n",
       "        [ 1.69222125e-01,  1.01894845e+00],\n",
       "        [ 1.58819062e+00, -1.90820935e-01]]),\n",
       " array([0, 1, 1, 0, 1, 1, 0, 1, 0, 1, 0, 1, 1, 1, 0, 0, 0, 1, 0, 0, 1, 1,\n",
       "        0, 1, 0, 1, 1, 1, 1, 0, 0, 0, 1, 1, 0, 1, 1, 0, 0, 1, 1, 0, 0, 1,\n",
       "        1, 0, 0, 0, 1, 1, 0, 1, 1, 0, 1, 0, 0, 1, 0, 0, 1, 0, 1, 0, 1, 0,\n",
       "        0, 1, 0, 0, 1, 0, 1, 1, 1, 0, 1, 0, 0, 1, 1, 0, 1, 1, 1, 0, 0, 0,\n",
       "        1, 1, 0, 0, 1, 0, 1, 1, 1, 1, 0, 1, 1, 1, 0, 0, 0, 1, 0, 0, 1, 0,\n",
       "        0, 0, 0, 0, 0, 1, 0, 1, 1, 0, 0, 0, 1, 0, 1, 0, 0, 1, 1, 1, 0, 0,\n",
       "        0, 1, 1, 1, 1, 0, 1, 0, 1, 1, 0, 0, 0, 0, 1, 1, 0, 1, 1, 1, 0, 0,\n",
       "        1, 0, 1, 1, 0, 0, 1, 1, 0, 1, 1, 1, 0, 1, 1, 1, 0, 0, 0, 0, 1, 1,\n",
       "        1, 0, 0, 0, 1, 0, 1, 1, 1, 0, 0, 1, 0, 0, 0, 0, 0, 0, 1, 0, 1, 1,\n",
       "        0, 1], dtype=int64))"
      ]
     },
     "execution_count": 4,
     "metadata": {},
     "output_type": "execute_result"
    }
   ],
   "source": [
    "moons = make_moons(n_samples=200, noise=0.1, random_state=0)\n",
    "moons"
   ]
  },
  {
   "cell_type": "code",
   "execution_count": 5,
   "id": "52258081",
   "metadata": {},
   "outputs": [],
   "source": [
    "x = moons[0]\n",
    "y = moons[1]"
   ]
  },
  {
   "cell_type": "code",
   "execution_count": 9,
   "id": "6e489efa",
   "metadata": {},
   "outputs": [
    {
     "data": {
      "text/plain": [
       "[]"
      ]
     },
     "execution_count": 9,
     "metadata": {},
     "output_type": "execute_result"
    },
    {
     "data": {
      "image/png": "[encoded data removed]",
      "text/plain": [
       "<Figure size 864x576 with 1 Axes>"
      ]
     },
     "metadata": {
      "needs_background": "light"
     },
     "output_type": "display_data"
    }
   ],
   "source": [
    "plt.figure(figsize=(12, 8))\n",
    "mglearn.discrete_scatter(x[:, 0], x[:, 1], y)\n",
    "plt.plot()"
   ]
  },
  {
   "cell_type": "code",
   "execution_count": 15,
   "id": "71f1afb9",
   "metadata": {},
   "outputs": [],
   "source": [
    "from sklearn.model_selection import train_test_split\n",
    "from sklearn.preprocessing import StandardScaler\n",
    "from sklearn.svm import LinearSVC"
   ]
  },
  {
   "cell_type": "code",
   "execution_count": 16,
   "id": "8bcdf99b",
   "metadata": {},
   "outputs": [],
   "source": [
    "x_train, x_test, y_train, y_test = train_test_split(x, y, stratify=y, random_state=0)\n",
    "\n",
    "scaler = StandardScaler()\n",
    "x_train_scaled = scaler.fit_transform(x_train)\n",
    "x_test_scaled = scaler.fit_transform(x_test)"
   ]
  },
  {
   "cell_type": "code",
   "execution_count": 17,
   "id": "b9b95d1c",
   "metadata": {},
   "outputs": [
    {
     "data": {
      "text/plain": [
       "Text(0, 0.5, '$x_1$')"
      ]
     },
     "execution_count": 17,
     "metadata": {},
     "output_type": "execute_result"
    },
    {
     "data": {
      "image/png": "[encoded data removed]",
      "text/plain": [
       "<Figure size 864x576 with 1 Axes>"
      ]
     },
     "metadata": {},
     "output_type": "display_data"
    }
   ],
   "source": [
    "lin_svm = LinearSVC().fit(x_train_scaled, y_train)\n",
    "\n",
    "plt.figure(figsize=(12, 8))\n",
    "mglearn.plots.plot_2d_separator(lin_svm, x)\n",
    "mglearn.discrete_scatter(x[:, 0], x[:, 1], y)\n",
    "plt.xlabel(\"$x_0$\", fontsize=20)\n",
    "plt.ylabel(\"$x_1$\", fontsize=20)"
   ]
  },
  {
   "cell_type": "code",
   "execution_count": 20,
   "id": "4f1fe1d7",
   "metadata": {},
   "outputs": [],
   "source": [
    "from sklearn.preprocessing import PolynomialFeatures"
   ]
  },
  {
   "cell_type": "code",
   "execution_count": 22,
   "id": "78c45333",
   "metadata": {},
   "outputs": [
    {
     "name": "stdout",
     "output_type": "stream",
     "text": [
      "(150, 10)\n",
      "[[ 1.00000000e+00  8.86813848e-01 -4.84896235e-01 ... -3.81341214e-01\n",
      "   2.08511538e-01 -1.14010917e-01]\n",
      " [ 1.00000000e+00  9.24799914e-01  4.94247065e-01 ...  4.22707215e-01\n",
      "   2.25910272e-01  1.20734753e-01]\n",
      " [ 1.00000000e+00 -7.63797985e-01  8.26528213e-01 ...  4.82186114e-01\n",
      "  -5.21787743e-01  5.64641828e-01]\n",
      " ...\n",
      " [ 1.00000000e+00 -9.68196502e-01  5.38851311e-01 ...  5.05121626e-01\n",
      "  -2.81126249e-01  1.56461263e-01]\n",
      " [ 1.00000000e+00 -6.70964946e-01  7.93803059e-01 ...  3.57365342e-01\n",
      "  -4.22790644e-01  5.00193800e-01]\n",
      " [ 1.00000000e+00 -2.68526403e-02  5.04722011e-01 ...  3.63937020e-04\n",
      "  -6.84055729e-03  1.28575060e-01]]\n"
     ]
    }
   ],
   "source": [
    "poly = PolynomialFeatures(degree=3)\n",
    "x_train_poly = poly.fit_transform(x_train)\n",
    "x_test_poly = poly.fit_transform(x_test)\n",
    "\n",
    "print(x_train_poly.shape)\n",
    "print(x_train_poly)\n"
   ]
  },
  {
   "cell_type": "code",
   "execution_count": 23,
   "id": "df5493b1",
   "metadata": {},
   "outputs": [
    {
     "data": {
      "text/plain": [
       "['1',\n",
       " 'x0',\n",
       " 'x1',\n",
       " 'x0^2',\n",
       " 'x0 x1',\n",
       " 'x1^2',\n",
       " 'x0^3',\n",
       " 'x0^2 x1',\n",
       " 'x0 x1^2',\n",
       " 'x1^3']"
      ]
     },
     "execution_count": 23,
     "metadata": {},
     "output_type": "execute_result"
    }
   ],
   "source": [
    "poly.get_feature_names()"
   ]
  },
  {
   "cell_type": "code",
   "execution_count": 34,
   "id": "a14b60c6",
   "metadata": {},
   "outputs": [
    {
     "data": {
      "text/plain": [
       "array([0, 1, 1, 0, 1, 1, 0, 1, 0, 1, 0, 1, 1, 1, 0, 0, 0, 1, 0, 0, 1, 1,\n",
       "       0, 1, 0, 1, 1, 1, 1, 0, 0, 0, 1, 1, 0, 1, 1, 0, 0, 1, 1, 0, 0, 1,\n",
       "       1, 0, 0, 0, 1, 1, 0, 1, 1, 0, 1, 0, 0, 1, 0, 0, 1, 0, 1, 0, 1, 0,\n",
       "       0, 1, 0, 0, 1, 0, 1, 1, 1, 0, 1, 0, 0, 1, 1, 0, 1, 1, 1, 0, 0, 0,\n",
       "       1, 1, 0, 0, 1, 0, 1, 1, 1, 1, 0, 1, 1, 1, 0, 0, 0, 1, 0, 0, 1, 0,\n",
       "       0, 0, 0, 0, 0, 1, 0, 1, 1, 0, 0, 0, 1, 0, 1, 0, 0, 1, 1, 1, 0, 0,\n",
       "       0, 1, 1, 1, 1, 0, 1, 0, 1, 1, 0, 0, 0, 0, 1, 1, 0, 1, 1, 1, 0, 0,\n",
       "       1, 0, 1, 1, 0, 0, 1, 1, 0, 1, 1, 1, 0, 1, 1, 1, 0, 0, 0, 0, 1, 1,\n",
       "       1, 0, 0, 0, 1, 0, 1, 1, 1, 0, 0, 1, 0, 0, 0, 0, 0, 0, 1, 0, 1, 1,\n",
       "       0, 1], dtype=int64)"
      ]
     },
     "execution_count": 34,
     "metadata": {},
     "output_type": "execute_result"
    }
   ],
   "source": [
    "y"
   ]
  },
  {
   "cell_type": "code",
   "execution_count": 36,
   "id": "cc76be07",
   "metadata": {},
   "outputs": [
    {
     "data": {
      "text/plain": [
       "array([ True,  True,  True,  True,  True,  True,  True,  True,  True,\n",
       "        True,  True,  True,  True,  True,  True,  True,  True,  True,\n",
       "        True,  True,  True,  True,  True,  True,  True,  True,  True,\n",
       "        True,  True,  True,  True,  True,  True,  True,  True,  True,\n",
       "        True,  True,  True,  True,  True,  True,  True,  True,  True,\n",
       "        True,  True,  True,  True,  True])"
      ]
     },
     "execution_count": 36,
     "metadata": {},
     "output_type": "execute_result"
    }
   ],
   "source": [
    "x_train_poly_scaled = scaler.fit_transform(x_train_poly)\n",
    "x_test_poly_scaled = scaler.fit_transform(x_test_poly)\n",
    "\n",
    "lin_svm = LinearSVC().fit(x_train_poly_scaled, y_train)\n",
    "lin_svm.predict(x_test_poly_scaled) == y_test"
   ]
  },
  {
   "cell_type": "code",
   "execution_count": 44,
   "id": "26d82af3",
   "metadata": {},
   "outputs": [
    {
     "data": {
      "text/plain": [
       "Pipeline(steps=[('scaler', StandardScaler()),\n",
       "                ('poly', PolynomialFeatures(degree=3)), ('svm', LinearSVC())])"
      ]
     },
     "execution_count": 44,
     "metadata": {},
     "output_type": "execute_result"
    }
   ],
   "source": [
    "from sklearn.pipeline import Pipeline\n",
    "\n",
    "poly_svm = Pipeline({\n",
    "    ('poly', PolynomialFeatures(degree=3)),\n",
    "    ('scaler', StandardScaler()),\n",
    "    ('svm', LinearSVC())\n",
    "})\n",
    "\n",
    "poly_svm.fit(x, y)"
   ]
  },
  {
   "cell_type": "code",
   "execution_count": 48,
   "id": "2f55d8e9",
   "metadata": {},
   "outputs": [],
   "source": [
    "from sklearn.svm import SVC"
   ]
  },
  {
   "cell_type": "code",
   "execution_count": 49,
   "id": "3d1021d4",
   "metadata": {},
   "outputs": [
    {
     "name": "stderr",
     "output_type": "stream",
     "text": [
      "<>:2: SyntaxWarning: 'tuple' object is not callable; perhaps you missed a comma?\n",
      "<>:2: SyntaxWarning: 'tuple' object is not callable; perhaps you missed a comma?\n",
      "<ipython-input-49-0dac4546d871>:2: SyntaxWarning: 'tuple' object is not callable; perhaps you missed a comma?\n",
      "  ('scaler', StandardScaler())\n"
     ]
    },
    {
     "ename": "TypeError",
     "evalue": "'tuple' object is not callable",
     "output_type": "error",
     "traceback": [
      "\u001b[1;31m---------------------------------------------------------------------------\u001b[0m",
      "\u001b[1;31mTypeError\u001b[0m                                 Traceback (most recent call last)",
      "\u001b[1;32m<ipython-input-49-0dac4546d871>\u001b[0m in \u001b[0;36m<module>\u001b[1;34m\u001b[0m\n\u001b[0;32m      1\u001b[0m kernel_svm = Pipeline({\n\u001b[1;32m----> 2\u001b[1;33m     \u001b[1;33m(\u001b[0m\u001b[1;34m'scaler'\u001b[0m\u001b[1;33m,\u001b[0m \u001b[0mStandardScaler\u001b[0m\u001b[1;33m(\u001b[0m\u001b[1;33m)\u001b[0m\u001b[1;33m)\u001b[0m\u001b[1;33m\u001b[0m\u001b[1;33m\u001b[0m\u001b[0m\n\u001b[0m\u001b[0;32m      3\u001b[0m     \u001b[1;33m(\u001b[0m\u001b[1;34m'svm'\u001b[0m\u001b[1;33m,\u001b[0m \u001b[0mSVC\u001b[0m\u001b[1;33m(\u001b[0m\u001b[0mkernel\u001b[0m\u001b[1;33m=\u001b[0m\u001b[1;34m'poly'\u001b[0m\u001b[1;33m,\u001b[0m \u001b[0mdegree\u001b[0m\u001b[1;33m=\u001b[0m\u001b[1;36m3\u001b[0m\u001b[1;33m,\u001b[0m \u001b[0mcoef0\u001b[0m\u001b[1;33m=\u001b[0m\u001b[1;36m1\u001b[0m\u001b[1;33m)\u001b[0m\u001b[1;33m)\u001b[0m\u001b[1;33m\u001b[0m\u001b[1;33m\u001b[0m\u001b[0m\n\u001b[0;32m      4\u001b[0m })\n\u001b[0;32m      5\u001b[0m \u001b[1;33m\u001b[0m\u001b[0m\n",
      "\u001b[1;31mTypeError\u001b[0m: 'tuple' object is not callable"
     ]
    }
   ],
   "source": [
    "kernel_svm = Pipeline({\n",
    "    ('scaler', StandardScaler())\n",
    "    ('svm', SVC(kernel='poly', degree=3, coef0=1))\n",
    "})\n",
    "\n",
    "kernel_svm.fit(x, y)\n",
    "\n",
    "plt.figure(figsize=(12, 8))\n",
    "plot_decision_function(kernel_svm)\n",
    "plot_datasets(x, y)\n",
    "plt.show()\n",
    "\n"
   ]
  },
  {
   "cell_type": "code",
   "execution_count": null,
   "id": "9e6e255f",
   "metadata": {},
   "outputs": [],
   "source": [
    "plt.figure(figsize=(20, 15))\n",
    "\n",
    "for i, degree in enumerate([2,3,5,10])"
   ]
  }
 ],
 "metadata": {
  "kernelspec": {
   "display_name": "Python 3",
   "language": "python",
   "name": "python3"
  },
  "language_info": {
   "codemirror_mode": {
    "name": "ipython",
    "version": 3
   },
   "file_extension": ".py",
   "mimetype": "text/x-python",
   "name": "python",
   "nbconvert_exporter": "python",
   "pygments_lexer": "ipython3",
   "version": "3.8.8"
  }
 },
 "nbformat": 4,
 "nbformat_minor": 5
}
