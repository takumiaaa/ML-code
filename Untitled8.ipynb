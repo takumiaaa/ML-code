{
 "cells": [
  {
   "cell_type": "code",
   "execution_count": 3,
   "id": "baeea06e",
   "metadata": {},
   "outputs": [],
   "source": [
    "import numpy as np\n",
    "import matplotlib.pyplot as plt\n",
    "from sklearn.datasets import load_digits"
   ]
  },
  {
   "cell_type": "code",
   "execution_count": 5,
   "id": "14e7a3df",
   "metadata": {},
   "outputs": [
    {
     "data": {
      "text/plain": [
       "{'data': array([[ 0.,  0.,  5., ...,  0.,  0.,  0.],\n",
       "        [ 0.,  0.,  0., ..., 10.,  0.,  0.],\n",
       "        [ 0.,  0.,  0., ..., 16.,  9.,  0.],\n",
       "        ...,\n",
       "        [ 0.,  0.,  1., ...,  6.,  0.,  0.],\n",
       "        [ 0.,  0.,  2., ..., 12.,  0.,  0.],\n",
       "        [ 0.,  0., 10., ..., 12.,  1.,  0.]]),\n",
       " 'target': array([0, 1, 2, ..., 8, 9, 8]),\n",
       " 'frame': None,\n",
       " 'feature_names': ['pixel_0_0',\n",
       "  'pixel_0_1',\n",
       "  'pixel_0_2',\n",
       "  'pixel_0_3',\n",
       "  'pixel_0_4',\n",
       "  'pixel_0_5',\n",
       "  'pixel_0_6',\n",
       "  'pixel_0_7',\n",
       "  'pixel_1_0',\n",
       "  'pixel_1_1',\n",
       "  'pixel_1_2',\n",
       "  'pixel_1_3',\n",
       "  'pixel_1_4',\n",
       "  'pixel_1_5',\n",
       "  'pixel_1_6',\n",
       "  'pixel_1_7',\n",
       "  'pixel_2_0',\n",
       "  'pixel_2_1',\n",
       "  'pixel_2_2',\n",
       "  'pixel_2_3',\n",
       "  'pixel_2_4',\n",
       "  'pixel_2_5',\n",
       "  'pixel_2_6',\n",
       "  'pixel_2_7',\n",
       "  'pixel_3_0',\n",
       "  'pixel_3_1',\n",
       "  'pixel_3_2',\n",
       "  'pixel_3_3',\n",
       "  'pixel_3_4',\n",
       "  'pixel_3_5',\n",
       "  'pixel_3_6',\n",
       "  'pixel_3_7',\n",
       "  'pixel_4_0',\n",
       "  'pixel_4_1',\n",
       "  'pixel_4_2',\n",
       "  'pixel_4_3',\n",
       "  'pixel_4_4',\n",
       "  'pixel_4_5',\n",
       "  'pixel_4_6',\n",
       "  'pixel_4_7',\n",
       "  'pixel_5_0',\n",
       "  'pixel_5_1',\n",
       "  'pixel_5_2',\n",
       "  'pixel_5_3',\n",
       "  'pixel_5_4',\n",
       "  'pixel_5_5',\n",
       "  'pixel_5_6',\n",
       "  'pixel_5_7',\n",
       "  'pixel_6_0',\n",
       "  'pixel_6_1',\n",
       "  'pixel_6_2',\n",
       "  'pixel_6_3',\n",
       "  'pixel_6_4',\n",
       "  'pixel_6_5',\n",
       "  'pixel_6_6',\n",
       "  'pixel_6_7',\n",
       "  'pixel_7_0',\n",
       "  'pixel_7_1',\n",
       "  'pixel_7_2',\n",
       "  'pixel_7_3',\n",
       "  'pixel_7_4',\n",
       "  'pixel_7_5',\n",
       "  'pixel_7_6',\n",
       "  'pixel_7_7'],\n",
       " 'target_names': array([0, 1, 2, 3, 4, 5, 6, 7, 8, 9]),\n",
       " 'images': array([[[ 0.,  0.,  5., ...,  1.,  0.,  0.],\n",
       "         [ 0.,  0., 13., ..., 15.,  5.,  0.],\n",
       "         [ 0.,  3., 15., ..., 11.,  8.,  0.],\n",
       "         ...,\n",
       "         [ 0.,  4., 11., ..., 12.,  7.,  0.],\n",
       "         [ 0.,  2., 14., ..., 12.,  0.,  0.],\n",
       "         [ 0.,  0.,  6., ...,  0.,  0.,  0.]],\n",
       " \n",
       "        [[ 0.,  0.,  0., ...,  5.,  0.,  0.],\n",
       "         [ 0.,  0.,  0., ...,  9.,  0.,  0.],\n",
       "         [ 0.,  0.,  3., ...,  6.,  0.,  0.],\n",
       "         ...,\n",
       "         [ 0.,  0.,  1., ...,  6.,  0.,  0.],\n",
       "         [ 0.,  0.,  1., ...,  6.,  0.,  0.],\n",
       "         [ 0.,  0.,  0., ..., 10.,  0.,  0.]],\n",
       " \n",
       "        [[ 0.,  0.,  0., ..., 12.,  0.,  0.],\n",
       "         [ 0.,  0.,  3., ..., 14.,  0.,  0.],\n",
       "         [ 0.,  0.,  8., ..., 16.,  0.,  0.],\n",
       "         ...,\n",
       "         [ 0.,  9., 16., ...,  0.,  0.,  0.],\n",
       "         [ 0.,  3., 13., ..., 11.,  5.,  0.],\n",
       "         [ 0.,  0.,  0., ..., 16.,  9.,  0.]],\n",
       " \n",
       "        ...,\n",
       " \n",
       "        [[ 0.,  0.,  1., ...,  1.,  0.,  0.],\n",
       "         [ 0.,  0., 13., ...,  2.,  1.,  0.],\n",
       "         [ 0.,  0., 16., ..., 16.,  5.,  0.],\n",
       "         ...,\n",
       "         [ 0.,  0., 16., ..., 15.,  0.,  0.],\n",
       "         [ 0.,  0., 15., ..., 16.,  0.,  0.],\n",
       "         [ 0.,  0.,  2., ...,  6.,  0.,  0.]],\n",
       " \n",
       "        [[ 0.,  0.,  2., ...,  0.,  0.,  0.],\n",
       "         [ 0.,  0., 14., ..., 15.,  1.,  0.],\n",
       "         [ 0.,  4., 16., ..., 16.,  7.,  0.],\n",
       "         ...,\n",
       "         [ 0.,  0.,  0., ..., 16.,  2.,  0.],\n",
       "         [ 0.,  0.,  4., ..., 16.,  2.,  0.],\n",
       "         [ 0.,  0.,  5., ..., 12.,  0.,  0.]],\n",
       " \n",
       "        [[ 0.,  0., 10., ...,  1.,  0.,  0.],\n",
       "         [ 0.,  2., 16., ...,  1.,  0.,  0.],\n",
       "         [ 0.,  0., 15., ..., 15.,  0.,  0.],\n",
       "         ...,\n",
       "         [ 0.,  4., 16., ..., 16.,  6.,  0.],\n",
       "         [ 0.,  8., 16., ..., 16.,  8.,  0.],\n",
       "         [ 0.,  1.,  8., ..., 12.,  1.,  0.]]]),\n",
       " 'DESCR': \".. _digits_dataset:\\n\\nOptical recognition of handwritten digits dataset\\n--------------------------------------------------\\n\\n**Data Set Characteristics:**\\n\\n    :Number of Instances: 1797\\n    :Number of Attributes: 64\\n    :Attribute Information: 8x8 image of integer pixels in the range 0..16.\\n    :Missing Attribute Values: None\\n    :Creator: E. Alpaydin (alpaydin '@' boun.edu.tr)\\n    :Date: July; 1998\\n\\nThis is a copy of the test set of the UCI ML hand-written digits datasets\\nhttps://archive.ics.uci.edu/ml/datasets/Optical+Recognition+of+Handwritten+Digits\\n\\nThe data set contains images of hand-written digits: 10 classes where\\neach class refers to a digit.\\n\\nPreprocessing programs made available by NIST were used to extract\\nnormalized bitmaps of handwritten digits from a preprinted form. From a\\ntotal of 43 people, 30 contributed to the training set and different 13\\nto the test set. 32x32 bitmaps are divided into nonoverlapping blocks of\\n4x4 and the number of on pixels are counted in each block. This generates\\nan input matrix of 8x8 where each element is an integer in the range\\n0..16. This reduces dimensionality and gives invariance to small\\ndistortions.\\n\\nFor info on NIST preprocessing routines, see M. D. Garris, J. L. Blue, G.\\nT. Candela, D. L. Dimmick, J. Geist, P. J. Grother, S. A. Janet, and C.\\nL. Wilson, NIST Form-Based Handprint Recognition System, NISTIR 5469,\\n1994.\\n\\n.. topic:: References\\n\\n  - C. Kaynak (1995) Methods of Combining Multiple Classifiers and Their\\n    Applications to Handwritten Digit Recognition, MSc Thesis, Institute of\\n    Graduate Studies in Science and Engineering, Bogazici University.\\n  - E. Alpaydin, C. Kaynak (1998) Cascading Classifiers, Kybernetika.\\n  - Ken Tang and Ponnuthurai N. Suganthan and Xi Yao and A. Kai Qin.\\n    Linear dimensionalityreduction using relevance weighted LDA. School of\\n    Electrical and Electronic Engineering Nanyang Technological University.\\n    2005.\\n  - Claudio Gentile. A New Approximate Maximal Margin Classification\\n    Algorithm. NIPS. 2000.\\n\"}"
      ]
     },
     "execution_count": 5,
     "metadata": {},
     "output_type": "execute_result"
    }
   ],
   "source": [
    "digits = load_digits()\n",
    "digits"
   ]
  },
  {
   "cell_type": "code",
   "execution_count": 7,
   "id": "ae3c0d81",
   "metadata": {},
   "outputs": [],
   "source": [
    "x = digits.data\n",
    "y = digits.target"
   ]
  },
  {
   "cell_type": "code",
   "execution_count": 8,
   "id": "cf67d771",
   "metadata": {},
   "outputs": [
    {
     "data": {
      "text/plain": [
       "(1797, 64)"
      ]
     },
     "execution_count": 8,
     "metadata": {},
     "output_type": "execute_result"
    }
   ],
   "source": [
    "x.shape"
   ]
  },
  {
   "cell_type": "code",
   "execution_count": 12,
   "id": "0f842a50",
   "metadata": {},
   "outputs": [
    {
     "data": {
      "image/png": "[encoded data removed]",
      "text/plain": [
       "<Figure size 1080x432 with 10 Axes>"
      ]
     },
     "metadata": {
      "needs_background": "light"
     },
     "output_type": "display_data"
    }
   ],
   "source": [
    "images_with_labels = list(zip(digits.images, digits.target))\n",
    "\n",
    "plt.figure(figsize=(15, 6))\n",
    "\n",
    "for idx, (image, label) in enumerate(images_with_labels[:10]):\n",
    "    plt.subplot(2, 5, idx + 1)\n",
    "    plt.imshow(image, cmap=plt.cm.gray_r, interpolation='nearest')\n",
    "    plt.axis('off')\n",
    "    plt.title('{}'.format(label), fontsize=25)\n",
    "    \n",
    "plt.show()"
   ]
  },
  {
   "cell_type": "code",
   "execution_count": 13,
   "id": "62295f5d",
   "metadata": {},
   "outputs": [
    {
     "data": {
      "text/plain": [
       "(1797, 8, 8)"
      ]
     },
     "execution_count": 13,
     "metadata": {},
     "output_type": "execute_result"
    }
   ],
   "source": [
    "digits.images.shape"
   ]
  },
  {
   "cell_type": "code",
   "execution_count": 16,
   "id": "616dc98a",
   "metadata": {},
   "outputs": [],
   "source": [
    "from sklearn.model_selection import train_test_split\n",
    "from sklearn.preprocessing import StandardScaler\n",
    "from sklearn.linear_model import LogisticRegression"
   ]
  },
  {
   "cell_type": "code",
   "execution_count": 18,
   "id": "a97ae36e",
   "metadata": {},
   "outputs": [],
   "source": [
    "x_train, x_test, y_train, y_test = train_test_split(x, y, random_state=0)"
   ]
  },
  {
   "cell_type": "code",
   "execution_count": 21,
   "id": "f5268501",
   "metadata": {},
   "outputs": [],
   "source": [
    "scaler = StandardScaler()\n",
    "x_train_scaled = scaler.fit_transform(x_train)\n",
    "x_test_scaled = scaler.fit_transform(x_test)"
   ]
  },
  {
   "cell_type": "code",
   "execution_count": 22,
   "id": "9c735b4b",
   "metadata": {},
   "outputs": [],
   "source": [
    "log_reg = LogisticRegression().fit(x_train_scaled, y_train)"
   ]
  },
  {
   "cell_type": "code",
   "execution_count": 23,
   "id": "c09beec8",
   "metadata": {},
   "outputs": [
    {
     "data": {
      "text/plain": [
       "(array([ 1.65847757e-03, -7.21689836e-01, -3.23437932e-01, -5.35672858e-02,\n",
       "        -4.32366864e-01,  4.53907622e-01, -6.82554276e-01,  1.68010737e-02,\n",
       "         2.16486734e+00, -4.23618318e-01]),\n",
       " array([[ 0.00000000e+00,  1.02681040e-02, -8.99020725e-02,\n",
       "          1.99558906e-01,  2.03800772e-02, -4.11236526e-01,\n",
       "         -2.78863277e-01, -3.15947551e-02, -1.44458138e-02,\n",
       "         -6.91970070e-02, -1.54964516e-01,  3.50686165e-01,\n",
       "          1.09495616e-01,  1.45028565e-01, -1.45656048e-01,\n",
       "         -4.66643999e-02, -1.55714792e-04,  1.43737154e-01,\n",
       "          1.99386930e-01, -4.64699112e-02, -7.25746221e-01,\n",
       "          4.42688414e-01,  1.65715612e-01, -3.87204498e-02,\n",
       "         -3.36549592e-04,  2.37150729e-01,  2.63021358e-01,\n",
       "         -4.35584238e-01, -1.21496766e+00,  5.85705376e-02,\n",
       "          3.81389662e-01, -3.15982067e-03,  0.00000000e+00,\n",
       "          3.42484562e-01,  2.94043771e-01, -5.28464320e-01,\n",
       "         -9.75228279e-01,  1.15478958e-01,  2.11097518e-01,\n",
       "          0.00000000e+00, -1.84942849e-03, -6.69399418e-02,\n",
       "          5.72535660e-01, -2.50942249e-01, -3.72014069e-01,\n",
       "          2.29378604e-01,  8.58197023e-02, -4.50420154e-03,\n",
       "         -3.18227538e-03, -1.28146181e-01,  2.59851453e-01,\n",
       "          5.84659812e-02,  3.79987446e-01,  1.14972283e-01,\n",
       "         -1.54891739e-01, -8.96629383e-02, -3.57260181e-05,\n",
       "         -9.73996283e-03, -1.08469515e-01,  3.36222731e-01,\n",
       "         -1.10973315e-01, -8.98890582e-02, -1.46758893e-01,\n",
       "         -1.30173068e-01],\n",
       "        [ 0.00000000e+00, -1.53751892e-02, -6.18924377e-02,\n",
       "          1.41540057e-01, -1.36274295e+00,  1.04687022e+00,\n",
       "          4.02085122e-01, -6.06510622e-02, -1.04708895e-03,\n",
       "         -6.48095904e-01, -1.05742425e+00, -4.70143059e-01,\n",
       "          6.78830606e-01, -8.91178035e-02, -6.23447271e-01,\n",
       "         -6.89205899e-02, -4.50144750e-03,  4.08203346e-01,\n",
       "          7.70490312e-02,  1.53309915e+00,  1.19415511e+00,\n",
       "         -2.94279412e-01,  8.67806361e-02, -3.03423446e-02,\n",
       "         -6.92027995e-02, -1.02550207e-01,  1.01142693e-01,\n",
       "          3.72621054e-01,  6.60335649e-01,  4.84740787e-01,\n",
       "         -2.19825799e-01, -2.65300976e-05,  0.00000000e+00,\n",
       "          2.51733109e-01,  2.49211412e-01, -1.39883236e-01,\n",
       "          3.61874890e-01,  8.47550150e-02, -2.49166157e-01,\n",
       "          0.00000000e+00, -2.59732382e-04, -4.88107986e-01,\n",
       "         -2.39355379e-02,  7.82331553e-01,  3.44131451e-01,\n",
       "         -5.39100864e-01, -3.98793880e-01, -1.54244750e-01,\n",
       "         -3.81564379e-04, -2.67260327e-01, -1.06711556e-01,\n",
       "          2.77571277e-01,  5.46839149e-01,  5.98241591e-02,\n",
       "         -1.92677065e-01,  2.18409174e-01, -1.06127959e-03,\n",
       "         -7.75847637e-02, -3.14122085e-01,  1.38769175e-01,\n",
       "          3.16352892e-01,  4.18898359e-01,  3.45715193e-01,\n",
       "          4.05961099e-01],\n",
       "        [ 0.00000000e+00,  6.93591763e-02,  1.01487883e-01,\n",
       "          1.71624844e-01, -4.32791287e-02, -3.51450864e-02,\n",
       "         -5.67508151e-02, -1.31802527e-02, -4.25659435e-02,\n",
       "          4.82250825e-01,  2.63022197e-01, -2.42176854e-01,\n",
       "          5.95713065e-01, -1.01234590e-01,  1.58338152e-01,\n",
       "         -3.06406295e-02, -1.01547976e-02,  1.34159519e-02,\n",
       "         -2.31007263e-01, -7.09625225e-01,  3.34555969e-01,\n",
       "          3.23274965e-02,  2.89946162e-01, -1.88400649e-04,\n",
       "          2.76044946e-06, -4.36862995e-01, -9.38776224e-01,\n",
       "         -1.13045158e+00, -1.41947555e-01, -7.25966108e-02,\n",
       "          4.47051376e-03, -9.71074990e-06,  0.00000000e+00,\n",
       "         -2.79593877e-01, -6.72967905e-01, -2.64307038e-01,\n",
       "         -2.30729263e-02, -5.85375471e-01, -5.51576355e-01,\n",
       "          0.00000000e+00, -3.70119875e-06,  2.61445975e-01,\n",
       "          2.09553446e-01,  1.01033553e+00, -5.26376013e-01,\n",
       "         -9.69939395e-01, -4.10442807e-01,  1.64031276e-01,\n",
       "          5.78211901e-03,  3.63958027e-01,  2.56015860e-01,\n",
       "          8.97080669e-01,  5.85101070e-01,  7.98359368e-01,\n",
       "          2.51106457e-01,  1.84325936e-01,  1.67266865e-02,\n",
       "          3.03913451e-01,  1.76200535e-01,  1.40789052e-01,\n",
       "          1.87677453e-01,  6.45266333e-01,  5.72835633e-01,\n",
       "          3.31519122e-01],\n",
       "        [ 0.00000000e+00,  2.48745952e-01, -3.67507158e-01,\n",
       "          2.33446009e-01,  8.60226426e-01,  2.64287317e-01,\n",
       "         -1.64273221e-01, -1.38847523e-02, -1.16508936e-01,\n",
       "          2.45519227e-01,  1.02569896e-01,  2.96528415e-02,\n",
       "          2.17388995e-01,  5.26126246e-01,  2.87898225e-01,\n",
       "          1.18160437e-04, -4.38055431e-02,  1.04554131e-01,\n",
       "         -1.05452345e+00, -8.53215471e-01,  3.65039797e-01,\n",
       "         -6.12260759e-01,  1.43416285e-01, -5.79103610e-04,\n",
       "          6.81282935e-08, -2.58040921e-01, -1.24086866e+00,\n",
       "         -1.43686926e-01,  4.43760530e-01, -9.18540995e-01,\n",
       "         -7.05123022e-01,  4.15742021e-06,  0.00000000e+00,\n",
       "         -1.63622424e-01, -4.70903702e-01,  3.17374556e-02,\n",
       "          4.64982378e-01, -1.55876378e-01, -8.45702142e-03,\n",
       "          0.00000000e+00,  7.30197072e-06, -7.92103480e-02,\n",
       "         -8.05024506e-01, -1.26339295e+00,  9.33274060e-02,\n",
       "          1.02616658e+00,  5.58109171e-01, -1.01681145e-01,\n",
       "          3.43353481e-06, -8.61616010e-02, -1.40030820e-01,\n",
       "         -3.82224356e-01,  1.67651181e-01,  2.66738852e-01,\n",
       "          7.76652019e-01, -3.19839058e-02, -1.12689366e-06,\n",
       "          2.40152333e-01,  6.49959482e-01,  3.06579832e-01,\n",
       "          1.47845588e-01, -2.02778185e-02,  5.65869283e-02,\n",
       "         -1.69491896e-01],\n",
       "        [ 0.00000000e+00, -2.58137734e-01, -3.38947881e-01,\n",
       "         -9.38725658e-01, -6.74314047e-01, -7.99932034e-01,\n",
       "         -5.29726144e-01,  9.96636186e-02, -1.35423236e-03,\n",
       "          9.95047753e-02, -3.35488512e-01, -5.41498773e-01,\n",
       "         -7.43419201e-01, -6.89944410e-01, -2.95891049e-01,\n",
       "          6.90851382e-02, -9.32311258e-05,  9.45174769e-02,\n",
       "          1.96160946e-01,  1.13507332e-01, -4.79614751e-02,\n",
       "          2.65302738e-01, -5.21242982e-02,  2.46374277e-01,\n",
       "          1.02736843e-01,  9.72234084e-02,  7.04400753e-01,\n",
       "          4.48219575e-02,  7.25941899e-03,  4.72957618e-02,\n",
       "          8.11437012e-01,  1.33914138e-02,  0.00000000e+00,\n",
       "          4.94872547e-01,  1.18402951e-01, -1.97000072e-01,\n",
       "          4.96357316e-01,  3.28126863e-01,  7.89769615e-01,\n",
       "          0.00000000e+00,  4.63016972e-03,  8.49442225e-01,\n",
       "         -6.09813681e-02,  1.20396567e+00,  7.58943078e-01,\n",
       "         -2.65661356e-02,  9.56586665e-02, -1.80228651e-02,\n",
       "          2.32019773e-03,  3.32898489e-01, -4.48401415e-01,\n",
       "          5.77917830e-02,  2.19562342e-01, -6.98497739e-01,\n",
       "         -4.82420035e-01, -2.95927480e-02, -3.92765243e-03,\n",
       "         -1.26404377e-01, -1.08803872e-01, -6.20573731e-01,\n",
       "         -3.67856599e-01, -5.74416231e-01, -3.00192954e-01,\n",
       "         -2.39433745e-02],\n",
       "        [ 0.00000000e+00,  2.48282645e-01,  9.18991420e-01,\n",
       "         -3.68739228e-01,  2.12734015e-01,  5.50630351e-01,\n",
       "          8.51064702e-01, -1.77598566e-01,  6.84165075e-02,\n",
       "         -5.99385623e-02,  6.20096666e-01,  3.77739111e-01,\n",
       "         -1.20073879e-01, -4.71980008e-01, -1.19952377e-01,\n",
       "          7.69842646e-02, -1.18314952e-02, -8.68091431e-03,\n",
       "          3.95778855e-01, -1.51755272e-01, -1.05546928e+00,\n",
       "         -1.33143494e+00, -9.13694866e-01, -1.01008733e-02,\n",
       "         -2.44546070e-02,  3.53487493e-01,  6.24479516e-01,\n",
       "         -2.26771010e-01,  3.61110864e-01, -6.02627069e-02,\n",
       "         -4.39492361e-01, -2.96240133e-05,  0.00000000e+00,\n",
       "         -1.79133900e-01,  3.00567964e-01, -3.93389320e-01,\n",
       "         -1.87473723e-01,  2.32522961e-02,  2.09523956e-01,\n",
       "          0.00000000e+00, -2.79887650e-05, -4.26464366e-01,\n",
       "         -4.74904069e-01, -6.81861293e-01, -3.02408134e-01,\n",
       "          2.73422826e-01, -4.84155799e-02, -9.89233562e-03,\n",
       "         -1.83798118e-05, -2.66669719e-02, -2.10460924e-01,\n",
       "         -2.02666071e-01, -9.68686462e-02, -4.16832990e-02,\n",
       "         -2.77690962e-01, -7.21934505e-02, -1.16521488e-05,\n",
       "          1.77482793e-01,  7.20651956e-01,  6.03739889e-01,\n",
       "         -1.07423152e-01,  1.94493302e-02, -1.20953201e-01,\n",
       "         -2.23137641e-01],\n",
       "        [ 0.00000000e+00, -6.96899305e-02, -3.88511288e-01,\n",
       "         -2.86483754e-02, -2.78799795e-01, -2.22566663e-01,\n",
       "         -1.12253591e-01, -1.21452253e-03, -1.49886182e-03,\n",
       "         -3.99879325e-01, -3.99166279e-01,  1.55239203e-01,\n",
       "         -8.60231395e-01, -2.78907635e-01,  8.74320280e-02,\n",
       "         -1.97005110e-03, -5.14099436e-04, -3.12558807e-01,\n",
       "          3.05972797e-01,  1.27741694e-01, -6.18603806e-01,\n",
       "         -1.02722983e+00, -2.09594900e-01, -4.80071618e-03,\n",
       "         -2.44423928e-03,  2.43856158e-01,  1.21173371e-01,\n",
       "          3.45298278e-01, -4.17856910e-01, -4.38596260e-01,\n",
       "         -3.78635734e-01, -1.82196213e-04,  0.00000000e+00,\n",
       "          4.23004972e-01,  6.39858703e-01,  4.57248759e-01,\n",
       "         -1.18233523e-01,  6.32660375e-02,  1.44407866e-01,\n",
       "          0.00000000e+00, -2.28498947e-03, -1.28673800e-01,\n",
       "          1.02652613e+00,  2.04301507e-01,  3.45160890e-01,\n",
       "          4.47261618e-01,  2.83574426e-01,  1.74612795e-01,\n",
       "         -4.20059066e-04, -2.21936119e-01,  5.87836826e-01,\n",
       "          4.02759918e-01, -1.83753021e-01,  5.15634269e-01,\n",
       "          2.73693787e-01, -2.55859617e-01,  1.38143616e-05,\n",
       "         -7.00208411e-02, -3.93340191e-01, -2.59822429e-01,\n",
       "          1.57008281e-01,  4.32117156e-01, -6.39261561e-03,\n",
       "         -2.16260334e-01],\n",
       "        [ 0.00000000e+00,  1.85639456e-01,  1.23285090e-01,\n",
       "          1.89149870e-01,  3.79141228e-01,  1.29202892e-01,\n",
       "          3.78157630e-01,  2.97337711e-01, -2.83618793e-05,\n",
       "          1.80724955e-01,  4.17331931e-01,  3.05977280e-01,\n",
       "          8.54532127e-01, -5.38590410e-02, -1.22191383e-01,\n",
       "          4.95371536e-02, -2.02737635e-04, -5.75356596e-01,\n",
       "         -5.98666022e-01, -6.21355784e-01,  1.25288298e-01,\n",
       "          5.55271300e-01,  2.12363711e-01,  2.62252299e-02,\n",
       "         -7.29022509e-04, -2.62270403e-01, -1.63332989e-01,\n",
       "         -7.36318366e-01, -8.86360122e-02,  3.37102186e-01,\n",
       "          3.63603743e-01, -7.18300696e-04,  0.00000000e+00,\n",
       "          6.22554474e-02,  5.76406488e-02, -1.05440568e-01,\n",
       "          4.26932507e-01,  5.37052381e-01,  5.19692161e-01,\n",
       "          0.00000000e+00, -7.19912361e-05,  9.01639904e-02,\n",
       "          1.10494095e-02,  2.78549958e-01,  3.12000885e-01,\n",
       "         -2.27013474e-01, -1.08641829e-01, -9.91315105e-04,\n",
       "         -7.45094720e-05, -2.25173999e-01, -1.69302170e-01,\n",
       "          2.23438886e-01, -6.38945297e-01, -9.39728701e-01,\n",
       "         -3.22865881e-01, -2.08345811e-02, -2.06215713e-04,\n",
       "         -8.31106895e-02, -1.31060300e-01, -5.34763713e-01,\n",
       "         -8.21216374e-01, -6.53567218e-01, -2.02712046e-01,\n",
       "         -2.22305242e-02],\n",
       "        [ 0.00000000e+00, -1.44426989e-01,  1.85330869e-01,\n",
       "         -2.72709538e-01,  2.85845596e-01, -1.99947176e-01,\n",
       "         -5.65355228e-01, -5.12920856e-02,  1.18282990e-01,\n",
       "         -6.81215419e-02,  2.91548208e-01,  2.20035682e-02,\n",
       "         -5.55342154e-01,  6.58217697e-01,  4.03078553e-01,\n",
       "         -7.96389415e-02,  7.19226273e-02,  3.01040851e-02,\n",
       "          3.36799994e-01,  1.93293701e-01, -5.46296809e-02,\n",
       "          4.89061664e-01,  1.28856920e-01, -4.21673491e-02,\n",
       "         -5.23985804e-03,  8.90514785e-02, -8.19040443e-02,\n",
       "          8.78787968e-01, -2.15090372e-01, -1.16595927e-01,\n",
       "          1.51831698e-01, -6.30747590e-04,  0.00000000e+00,\n",
       "         -3.60296931e-01, -3.48123984e-01,  7.26257800e-01,\n",
       "          1.61528803e-01, -5.24840647e-01, -1.08635996e+00,\n",
       "          0.00000000e+00, -2.65126079e-04,  1.42313063e-01,\n",
       "          6.67687172e-01,  5.10368952e-01,  2.96545897e-01,\n",
       "          1.78416219e-01,  2.34878048e-01, -4.87624383e-02,\n",
       "         -4.11508429e-03,  8.15234524e-02,  3.58261339e-01,\n",
       "         -7.63018991e-01, -5.12106231e-01,  4.41418118e-01,\n",
       "          1.41907431e-01, -2.13769388e-01, -1.15559089e-02,\n",
       "         -5.95891701e-02, -5.39041027e-01, -7.98016700e-02,\n",
       "          3.99383003e-01, -9.10572473e-02, -5.08149341e-02,\n",
       "         -1.09618455e-01],\n",
       "        [ 0.00000000e+00, -2.74665489e-01, -8.23344250e-02,\n",
       "          6.73503114e-01,  6.00808576e-01, -3.22163300e-01,\n",
       "          7.59148221e-02, -4.75853329e-02, -9.25025888e-03,\n",
       "          2.37232557e-01,  2.52474664e-01,  1.25205186e-02,\n",
       "         -1.76893780e-01,  3.55670980e-01,  3.70391170e-01,\n",
       "          3.21098952e-02, -6.63560900e-04,  1.02064172e-01,\n",
       "          3.73048184e-01,  4.14779789e-01,  4.83371284e-01,\n",
       "          1.48055332e+00,  1.48334740e-01, -1.45700270e-01,\n",
       "         -3.32595661e-04,  3.89552596e-02,  6.10664227e-01,\n",
       "          1.03128286e+00,  6.06032045e-01,  6.78883227e-01,\n",
       "          3.03442870e-02, -8.63864116e-03,  0.00000000e+00,\n",
       "         -5.91703504e-01, -1.67729858e-01,  4.13240539e-01,\n",
       "         -6.07667442e-01,  1.14160944e-01,  2.10683793e-02,\n",
       "          0.00000000e+00,  1.25485928e-04, -1.53968812e-01,\n",
       "         -1.12250634e+00, -1.79365668e+00, -9.49311391e-01,\n",
       "         -3.92025981e-01, -2.91745917e-01, -5.45020665e-04,\n",
       "          8.61221247e-05,  1.76965230e-01, -3.87058594e-01,\n",
       "         -5.69199095e-01, -4.67467992e-01, -5.17037310e-01,\n",
       "         -1.28140120e-02,  3.11161518e-01,  5.90608915e-05,\n",
       "         -2.95098773e-01,  4.80250169e-02, -3.11391362e-02,\n",
       "          1.99202223e-01, -8.65236053e-02, -1.47313110e-01,\n",
       "          1.57375071e-01]]))"
      ]
     },
     "execution_count": 23,
     "metadata": {},
     "output_type": "execute_result"
    }
   ],
   "source": [
    "log_reg.intercept_, log_reg.coef_"
   ]
  },
  {
   "cell_type": "code",
   "execution_count": 28,
   "id": "0894e857",
   "metadata": {},
   "outputs": [
    {
     "data": {
      "text/plain": [
       "array([2, 8, 2, 6, 6, 7, 1, 9, 8, 5, 2, 8, 6, 6, 6, 6, 1, 0, 5, 8, 8, 7,\n",
       "       8, 4, 7, 5, 4, 9, 2, 9, 4, 7, 6, 8, 9, 4, 3, 1, 0, 1, 8, 6, 7, 7,\n",
       "       1, 0, 7, 6, 2, 1, 9, 6, 7, 9, 0, 0, 9, 1, 6, 3, 0, 2, 3, 4, 1, 9,\n",
       "       2, 6, 9, 1, 8, 3, 5, 1, 2, 8, 2, 2, 9, 7, 2, 3, 6, 0, 5, 3, 7, 5,\n",
       "       1, 2, 9, 9, 3, 1, 4, 7, 4, 8, 5, 8, 5, 5, 2, 5, 9, 0, 7, 1, 4, 7,\n",
       "       3, 4, 8, 9, 7, 9, 8, 2, 1, 5, 2, 5, 8, 4, 1, 7, 0, 6, 1, 5, 5, 9,\n",
       "       9, 5, 9, 9, 5, 7, 5, 6, 2, 8, 6, 9, 6, 1, 5, 1, 5, 9, 9, 1, 5, 3,\n",
       "       6, 1, 8, 9, 8, 7, 6, 7, 6, 5, 6, 0, 8, 8, 9, 8, 6, 1, 0, 4, 1, 6,\n",
       "       3, 8, 6, 7, 4, 9, 6, 3, 0, 3, 3, 3, 0, 7, 7, 5, 7, 8, 0, 7, 1, 9,\n",
       "       6, 4, 5, 0, 1, 4, 6, 4, 3, 3, 0, 9, 5, 9, 2, 1, 4, 2, 1, 6, 8, 9,\n",
       "       2, 4, 9, 3, 7, 6, 2, 3, 3, 1, 6, 9, 3, 6, 3, 2, 2, 0, 7, 6, 1, 1,\n",
       "       9, 7, 2, 7, 8, 5, 5, 7, 5, 2, 3, 7, 2, 7, 5, 5, 7, 0, 9, 1, 6, 5,\n",
       "       9, 7, 4, 3, 8, 0, 3, 6, 4, 6, 3, 2, 6, 8, 8, 8, 4, 6, 7, 5, 2, 4,\n",
       "       5, 3, 2, 4, 6, 9, 4, 5, 4, 3, 4, 6, 2, 9, 0, 1, 7, 2, 0, 9, 6, 0,\n",
       "       4, 2, 0, 7, 9, 8, 5, 7, 8, 2, 8, 4, 3, 7, 2, 6, 9, 1, 5, 1, 0, 8,\n",
       "       2, 8, 9, 5, 6, 2, 2, 7, 2, 1, 5, 1, 6, 4, 5, 0, 9, 4, 1, 1, 7, 0,\n",
       "       8, 9, 0, 5, 4, 3, 8, 8, 6, 5, 3, 4, 4, 4, 8, 8, 7, 0, 9, 6, 3, 5,\n",
       "       2, 3, 0, 8, 8, 3, 1, 3, 3, 0, 0, 4, 6, 0, 7, 7, 6, 2, 0, 4, 4, 2,\n",
       "       3, 7, 1, 9, 8, 6, 8, 5, 6, 2, 2, 3, 1, 7, 7, 8, 0, 3, 3, 2, 1, 5,\n",
       "       5, 9, 1, 3, 7, 0, 0, 7, 0, 4, 5, 9, 3, 3, 4, 3, 1, 8, 9, 8, 3, 6,\n",
       "       2, 1, 6, 2, 1, 7, 5, 5, 1, 9])"
      ]
     },
     "execution_count": 28,
     "metadata": {},
     "output_type": "execute_result"
    }
   ],
   "source": [
    "prediction = log_reg.predict(x_test_scaled)\n",
    "prediction"
   ]
  },
  {
   "cell_type": "code",
   "execution_count": 29,
   "id": "026161a6",
   "metadata": {},
   "outputs": [
    {
     "data": {
      "text/plain": [
       "array([2, 8, 2, 6, 6, 7, 1, 9, 8, 5, 2, 8, 6, 6, 6, 6, 1, 0, 5, 8, 8, 7,\n",
       "       8, 4, 7, 5, 4, 9, 2, 9, 4, 7, 6, 8, 9, 4, 3, 1, 0, 1, 8, 6, 7, 7,\n",
       "       1, 0, 7, 6, 2, 1, 9, 6, 7, 9, 0, 0, 5, 1, 6, 3, 0, 2, 3, 4, 1, 9,\n",
       "       2, 6, 9, 1, 8, 3, 5, 1, 2, 8, 2, 2, 9, 7, 2, 3, 6, 0, 5, 3, 7, 5,\n",
       "       1, 2, 9, 9, 3, 1, 7, 7, 4, 8, 5, 8, 5, 5, 2, 5, 9, 0, 7, 1, 4, 7,\n",
       "       3, 4, 8, 9, 7, 9, 8, 2, 6, 5, 2, 5, 8, 4, 8, 7, 0, 6, 1, 5, 9, 9,\n",
       "       9, 5, 9, 9, 5, 7, 5, 6, 2, 8, 6, 9, 6, 1, 5, 1, 5, 9, 9, 1, 5, 3,\n",
       "       6, 1, 8, 9, 8, 7, 6, 7, 6, 5, 6, 0, 8, 8, 9, 8, 6, 1, 0, 4, 1, 6,\n",
       "       3, 8, 6, 7, 4, 5, 6, 3, 0, 3, 3, 3, 0, 7, 7, 5, 7, 8, 0, 7, 8, 9,\n",
       "       6, 4, 5, 0, 1, 4, 6, 4, 3, 3, 0, 9, 5, 9, 2, 1, 4, 2, 1, 6, 8, 9,\n",
       "       2, 4, 9, 3, 7, 6, 2, 3, 3, 1, 6, 9, 3, 6, 3, 2, 2, 0, 7, 6, 1, 1,\n",
       "       9, 7, 2, 7, 8, 5, 5, 7, 5, 2, 3, 7, 2, 7, 5, 5, 7, 0, 9, 1, 6, 5,\n",
       "       9, 7, 4, 3, 8, 0, 3, 6, 4, 6, 3, 2, 6, 8, 8, 8, 4, 6, 7, 5, 2, 4,\n",
       "       5, 3, 2, 4, 6, 9, 4, 5, 4, 3, 4, 6, 2, 9, 0, 1, 7, 2, 0, 9, 6, 0,\n",
       "       4, 2, 0, 7, 9, 8, 5, 4, 8, 2, 8, 4, 3, 7, 2, 6, 9, 1, 5, 1, 0, 8,\n",
       "       2, 1, 9, 5, 6, 8, 2, 7, 2, 1, 5, 1, 6, 4, 5, 0, 9, 4, 1, 1, 7, 0,\n",
       "       8, 9, 0, 5, 4, 3, 8, 8, 6, 5, 3, 4, 4, 4, 8, 8, 7, 0, 9, 6, 3, 5,\n",
       "       2, 3, 0, 8, 3, 3, 1, 3, 3, 0, 0, 4, 6, 0, 7, 7, 6, 2, 0, 4, 4, 2,\n",
       "       3, 7, 8, 9, 8, 6, 8, 5, 6, 2, 2, 3, 1, 7, 7, 8, 0, 3, 3, 2, 1, 5,\n",
       "       5, 9, 1, 3, 7, 0, 0, 7, 0, 4, 5, 9, 3, 3, 4, 3, 1, 8, 9, 8, 3, 6,\n",
       "       2, 1, 6, 2, 1, 7, 5, 5, 1, 9])"
      ]
     },
     "execution_count": 29,
     "metadata": {},
     "output_type": "execute_result"
    }
   ],
   "source": [
    "y_test"
   ]
  },
  {
   "cell_type": "code",
   "execution_count": 30,
   "id": "8bacedee",
   "metadata": {},
   "outputs": [
    {
     "data": {
      "text/plain": [
       "array([ True,  True,  True,  True,  True,  True,  True,  True,  True,\n",
       "        True,  True,  True,  True,  True,  True,  True,  True,  True,\n",
       "        True,  True,  True,  True,  True,  True,  True,  True,  True,\n",
       "        True,  True,  True,  True,  True,  True,  True,  True,  True,\n",
       "        True,  True,  True,  True,  True,  True,  True,  True,  True,\n",
       "        True,  True,  True,  True,  True,  True,  True,  True,  True,\n",
       "        True,  True, False,  True,  True,  True,  True,  True,  True,\n",
       "        True,  True,  True,  True,  True,  True,  True,  True,  True,\n",
       "        True,  True,  True,  True,  True,  True,  True,  True,  True,\n",
       "        True,  True,  True,  True,  True,  True,  True,  True,  True,\n",
       "        True,  True,  True,  True, False,  True,  True,  True,  True,\n",
       "        True,  True,  True,  True,  True,  True,  True,  True,  True,\n",
       "        True,  True,  True,  True,  True,  True,  True,  True,  True,\n",
       "        True, False,  True,  True,  True,  True,  True, False,  True,\n",
       "        True,  True,  True,  True, False,  True,  True,  True,  True,\n",
       "        True,  True,  True,  True,  True,  True,  True,  True,  True,\n",
       "        True,  True,  True,  True,  True,  True,  True,  True,  True,\n",
       "        True,  True,  True,  True,  True,  True,  True,  True,  True,\n",
       "        True,  True,  True,  True,  True,  True,  True,  True,  True,\n",
       "        True,  True,  True,  True,  True,  True,  True,  True,  True,\n",
       "        True, False,  True,  True,  True,  True,  True,  True,  True,\n",
       "        True,  True,  True,  True,  True,  True,  True, False,  True,\n",
       "        True,  True,  True,  True,  True,  True,  True,  True,  True,\n",
       "        True,  True,  True,  True,  True,  True,  True,  True,  True,\n",
       "        True,  True,  True,  True,  True,  True,  True,  True,  True,\n",
       "        True,  True,  True,  True,  True,  True,  True,  True,  True,\n",
       "        True,  True,  True,  True,  True,  True,  True,  True,  True,\n",
       "        True,  True,  True,  True,  True,  True,  True,  True,  True,\n",
       "        True,  True,  True,  True,  True,  True,  True,  True,  True,\n",
       "        True,  True,  True,  True,  True,  True,  True,  True,  True,\n",
       "        True,  True,  True,  True,  True,  True,  True,  True,  True,\n",
       "        True,  True,  True,  True,  True,  True,  True,  True,  True,\n",
       "        True,  True,  True,  True,  True,  True,  True,  True,  True,\n",
       "        True,  True,  True,  True,  True,  True,  True,  True,  True,\n",
       "        True,  True,  True,  True,  True,  True,  True,  True,  True,\n",
       "       False,  True,  True,  True,  True,  True,  True,  True,  True,\n",
       "        True,  True,  True,  True,  True,  True,  True, False,  True,\n",
       "        True,  True, False,  True,  True,  True,  True,  True,  True,\n",
       "        True,  True,  True,  True,  True,  True,  True,  True,  True,\n",
       "        True,  True,  True,  True,  True,  True,  True,  True,  True,\n",
       "        True,  True,  True,  True,  True,  True,  True,  True,  True,\n",
       "        True,  True,  True,  True,  True,  True,  True,  True,  True,\n",
       "       False,  True,  True,  True,  True,  True,  True,  True,  True,\n",
       "        True,  True,  True,  True,  True,  True,  True,  True,  True,\n",
       "        True,  True, False,  True,  True,  True,  True,  True,  True,\n",
       "        True,  True,  True,  True,  True,  True,  True,  True,  True,\n",
       "        True,  True,  True,  True,  True,  True,  True,  True,  True,\n",
       "        True,  True,  True,  True,  True,  True,  True,  True,  True,\n",
       "        True,  True,  True,  True,  True,  True,  True,  True,  True,\n",
       "        True,  True,  True,  True,  True,  True,  True,  True,  True])"
      ]
     },
     "execution_count": 30,
     "metadata": {},
     "output_type": "execute_result"
    }
   ],
   "source": [
    "prediction == y_test"
   ]
  },
  {
   "cell_type": "code",
   "execution_count": 31,
   "id": "bfd36d77",
   "metadata": {},
   "outputs": [],
   "source": [
    "from sklearn.metrics import confusion_matrix"
   ]
  },
  {
   "cell_type": "code",
   "execution_count": 32,
   "id": "11d43cd9",
   "metadata": {},
   "outputs": [
    {
     "data": {
      "text/plain": [
       "array([[37,  0,  0,  0,  0,  0,  0,  0,  0,  0],\n",
       "       [ 0, 42,  0,  0,  0,  0,  1,  0,  3,  0],\n",
       "       [ 0,  0, 44,  0,  0,  0,  0,  0,  1,  0],\n",
       "       [ 0,  0,  0, 44,  0,  0,  0,  0,  0,  0],\n",
       "       [ 0,  0,  0,  0, 37,  0,  0,  1,  0,  0],\n",
       "       [ 0,  0,  0,  0,  0, 46,  0,  0,  0,  1],\n",
       "       [ 0,  0,  0,  0,  0,  0, 51,  0,  0,  0],\n",
       "       [ 0,  0,  0,  0,  1,  0,  0, 47,  0,  0],\n",
       "       [ 0,  1,  0,  1,  0,  0,  0,  0, 44,  0],\n",
       "       [ 0,  0,  0,  0,  0,  2,  0,  0,  0, 46]], dtype=int64)"
      ]
     },
     "execution_count": 32,
     "metadata": {},
     "output_type": "execute_result"
    }
   ],
   "source": [
    "confusion = confusion_matrix(prediction, y_test)\n",
    "confusion"
   ]
  },
  {
   "cell_type": "code",
   "execution_count": 35,
   "id": "0637278b",
   "metadata": {},
   "outputs": [
    {
     "data": {
      "text/plain": [
       "0.9733333333333334"
      ]
     },
     "execution_count": 35,
     "metadata": {},
     "output_type": "execute_result"
    }
   ],
   "source": [
    "log_reg.score(x_test_scaled, y_test)"
   ]
  }
 ],
 "metadata": {
  "kernelspec": {
   "display_name": "Python 3",
   "language": "python",
   "name": "python3"
  },
  "language_info": {
   "codemirror_mode": {
    "name": "ipython",
    "version": 3
   },
   "file_extension": ".py",
   "mimetype": "text/x-python",
   "name": "python",
   "nbconvert_exporter": "python",
   "pygments_lexer": "ipython3",
   "version": "3.8.8"
  }
 },
 "nbformat": 4,
 "nbformat_minor": 5
}
