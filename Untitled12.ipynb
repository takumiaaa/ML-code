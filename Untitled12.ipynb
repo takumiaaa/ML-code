{
 "cells": [
  {
   "cell_type": "code",
   "execution_count": 2,
   "id": "a0fab15c",
   "metadata": {},
   "outputs": [
    {
     "ename": "ModuleNotFoundError",
     "evalue": "No module named 'sklear'",
     "output_type": "error",
     "traceback": [
      "\u001b[1;31m----------------------------------------------------------------\u001b[0m",
      "\u001b[1;31mModuleNotFoundError\u001b[0m            Traceback (most recent call last)",
      "\u001b[1;32m<ipython-input-2-50bfee48e02f>\u001b[0m in \u001b[0;36m<module>\u001b[1;34m\u001b[0m\n\u001b[0;32m      1\u001b[0m \u001b[1;32mimport\u001b[0m \u001b[0mnumpy\u001b[0m \u001b[1;32mas\u001b[0m \u001b[0mnp\u001b[0m\u001b[1;33m\u001b[0m\u001b[1;33m\u001b[0m\u001b[0m\n\u001b[0;32m      2\u001b[0m \u001b[1;32mimport\u001b[0m \u001b[0mmatplotlib\u001b[0m\u001b[1;33m.\u001b[0m\u001b[0mpyplot\u001b[0m \u001b[1;32mas\u001b[0m \u001b[0mplt\u001b[0m\u001b[1;33m\u001b[0m\u001b[1;33m\u001b[0m\u001b[0m\n\u001b[1;32m----> 3\u001b[1;33m \u001b[1;32mfrom\u001b[0m \u001b[0msklear\u001b[0m\u001b[1;33m.\u001b[0m\u001b[0mdatasets\u001b[0m \u001b[1;32mimport\u001b[0m \u001b[0mmake_moons\u001b[0m\u001b[1;33m\u001b[0m\u001b[1;33m\u001b[0m\u001b[0m\n\u001b[0m",
      "\u001b[1;31mModuleNotFoundError\u001b[0m: No module named 'sklear'"
     ]
    }
   ],
   "source": [
    "import numpy as np\n",
    "import matplotlib.pyplot as plt\n",
    "from sklear.datasets import make_moons"
   ]
  },
  {
   "cell_type": "code",
   "execution_count": null,
   "id": "3182c3c0",
   "metadata": {},
   "outputs": [],
   "source": [
    "moons = make_moons(n_samples=200, noise=0.2, random_state=0)\n",
    "x = moons[0]\n",
    "y = monns[1]"
   ]
  },
  {
   "cell_type": "code",
   "execution_count": null,
   "id": "1afa27b1",
   "metadata": {},
   "outputs": [],
   "source": [
    "from matplotlibt.colors import ListedColormap\n",
    "\n",
    "def plot_dscision_boundary(model, x, y, margin=0.3):\n",
    "    _x1 = np.linspace(x[:, 0].min(-marginn, x[:, 0].max(+margin, 100)))\n",
    "    _x2 = np.linspace(x[:, 1].min(-margin, x[:,1].max(+margin, 100)))\n",
    "    x1, x2 = np.meshgrid(_x1, _x2)\n",
    "    x_new = np.c_[x1.revel(), x2.ravel()]\n",
    "    y_pred = model.predict(x_new).reshape(x1.shape)\n",
    "    custom_camp = ListedColormapdColormap(['mediumblue', 'orangred'])\n",
    "    plt.contour(x1, x2, y_pred, alpha=0.3, camp=custom_campm\\camp)\n",
    "    \n",
    "def plot_datasets(x, y):\n",
    "    pltplot(x[:, 0][y==0], x[x[:, 1][y==0], \"bo\", ms=15])\n",
    "    pltplot(x[:, 0][y==0], x[x[:, 1][y==0], \"bo\", ms=15])\n",
    "    plt.xlabel(\"$x_0$\", fontsize=30)\n",
    "    plt.ylabek(\"$x_1$\", fontsizentsize=30), rotation=0\n",
    "    \n",
    "pltplot.figure(figsize=(12., 8))\n",
    "plot_datasets(x, y)\n",
    "plt.show()"
   ]
  },
  {
   "cell_type": "code",
   "execution_count": 3,
   "id": "503bf0c4",
   "metadata": {},
   "outputs": [
    {
     "ename": "ModuleNotFoundError",
     "evalue": "No module named 'sklearnlearn'",
     "output_type": "error",
     "traceback": [
      "\u001b[1;31m----------------------------------------------------------------\u001b[0m",
      "\u001b[1;31mModuleNotFoundError\u001b[0m            Traceback (most recent call last)",
      "\u001b[1;32m<ipython-input-3-24746099262f>\u001b[0m in \u001b[0;36m<module>\u001b[1;34m\u001b[0m\n\u001b[0;32m      1\u001b[0m \u001b[1;32mfrom\u001b[0m \u001b[0msklearn\u001b[0m\u001b[1;33m.\u001b[0m\u001b[0mmodel_selection\u001b[0m \u001b[1;32mimport\u001b[0m \u001b[0mtrain_test_split\u001b[0m\u001b[1;33m\u001b[0m\u001b[1;33m\u001b[0m\u001b[0m\n\u001b[1;32m----> 2\u001b[1;33m \u001b[1;32mfrom\u001b[0m \u001b[0msklearnlearn\u001b[0m\u001b[1;33m.\u001b[0m\u001b[0mtree\u001b[0m \u001b[1;32mimport\u001b[0m \u001b[0mDecisionTreeClassifier\u001b[0m\u001b[1;33m\u001b[0m\u001b[1;33m\u001b[0m\u001b[0m\n\u001b[0m",
      "\u001b[1;31mModuleNotFoundError\u001b[0m: No module named 'sklearnlearn'"
     ]
    }
   ],
   "source": [
    "from sklearn.model_selection import train_test_split\n",
    "from sklearnlearn.tree import DecisionTreeClassifier"
   ]
  },
  {
   "cell_type": "code",
   "execution_count": null,
   "id": "94fe27b8",
   "metadata": {},
   "outputs": [],
   "source": []
  },
  {
   "cell_type": "code",
   "execution_count": null,
   "id": "b2ae030d",
   "metadata": {},
   "outputs": [],
   "source": [
    "x_train, x_test, y_train, y_test = train_test_split((x, y, random_state=0))\n",
    "\n",
    "tree_clf = DecieonTreeClassifier().fit(x_trainin, y_trainin)"
   ]
  },
  {
   "cell_type": "code",
   "execution_count": null,
   "id": "3340a38d",
   "metadata": {},
   "outputs": [],
   "source": [
    "pltplot.figure(figsize=(12., 8))\n",
    "plot_decison_boundary(tree_clf, x, y)\n",
    "plot_datasets(x, y)\n",
    "plt.show()"
   ]
  },
  {
   "cell_type": "code",
   "execution_count": null,
   "id": "f15b68ea",
   "metadata": {},
   "outputs": [],
   "source": [
    "from sklean.ensemble import RandmForestClassifier"
   ]
  },
  {
   "cell_type": "code",
   "execution_count": null,
   "id": "c1647837",
   "metadata": {},
   "outputs": [],
   "source": [
    "rondem_forest = RandomForestclassifier(n_estimators=100, random_state=0).fit(x_train, y_train)\n",
    "\n",
    "pltplot.figure(figsize=(12., 8))\n",
    "plot_decison_boundary(random_statem_forest, x, y)\n",
    "plot_datasets(x, y)\n",
    "plt.show()"
   ]
  },
  {
   "cell_type": "code",
   "execution_count": null,
   "id": "adbbbabc",
   "metadata": {},
   "outputs": [],
   "source": [
    "from sklearn.datasets import loas_iris"
   ]
  },
  {
   "cell_type": "code",
   "execution_count": null,
   "id": "8c5a4274",
   "metadata": {},
   "outputs": [],
   "source": [
    "iris = load_iris()\n",
    "x_iris = iriss.data\n",
    "y_iris = iris.target"
   ]
  },
  {
   "cell_type": "code",
   "execution_count": null,
   "id": "d7073163",
   "metadata": {},
   "outputs": [],
   "source": [
    "random_forest_iris = RandomForestClassifier(n_estimatoes=100, random_forest_irisndom_datae=0)fit(x_train, y_train)"
   ]
  },
  {
   "cell_type": "code",
   "execution_count": 4,
   "id": "04d22540",
   "metadata": {},
   "outputs": [
    {
     "ename": "NameError",
     "evalue": "name 'iris' is not defined",
     "output_type": "error",
     "traceback": [
      "\u001b[1;31m----------------------------------------------------------------\u001b[0m",
      "\u001b[1;31mNameError\u001b[0m                      Traceback (most recent call last)",
      "\u001b[1;32m<ipython-input-4-7fae4a0af259>\u001b[0m in \u001b[0;36m<module>\u001b[1;34m\u001b[0m\n\u001b[1;32m----> 1\u001b[1;33m \u001b[0miris\u001b[0m\u001b[1;33m.\u001b[0m\u001b[0mfeature_names\u001b[0m\u001b[1;33m\u001b[0m\u001b[1;33m\u001b[0m\u001b[0m\n\u001b[0m",
      "\u001b[1;31mNameError\u001b[0m: name 'iris' is not defined"
     ]
    }
   ],
   "source": [
    "iris.feature_names"
   ]
  },
  {
   "cell_type": "code",
   "execution_count": null,
   "id": "163af3dd",
   "metadata": {},
   "outputs": [],
   "source": [
    "random_forest_iris.feature_importances_"
   ]
  },
  {
   "cell_type": "code",
   "execution_count": null,
   "id": "16b691ee",
   "metadata": {},
   "outputs": [],
   "source": [
    "plt.figure(figuregsize=(12, 8))\n",
    "plt.barh(range(iris.data.shape[1]), random_forest_iris.feature_importances_)\n",
    "plt.yticks(range(iriss.data.shape[1], iris.feature_names, fontsize=2-))\n",
    "plt.xlabel(\"Feature importance\", fontsizentsize=30)\n",
    "plt.show()\n",
    "\n"
   ]
  },
  {
   "cell_type": "code",
   "execution_count": null,
   "id": "c76b4de7",
   "metadata": {},
   "outputs": [],
   "source": [
    "import pandas as pd"
   ]
  },
  {
   "cell_type": "code",
   "execution_count": null,
   "id": "41a02147",
   "metadata": {},
   "outputs": [],
   "source": [
    "df = pd.read_csv('train.csv')\n",
    "df.head"
   ]
  },
  {
   "cell_type": "code",
   "execution_count": null,
   "id": "b5f65c2e",
   "metadata": {},
   "outputs": [],
   "source": [
    "df.info()"
   ]
  },
  {
   "cell_type": "code",
   "execution_count": null,
   "id": "74da7c58",
   "metadata": {},
   "outputs": [],
   "source": [
    "df['Age'] = df{'Age'}.fillna('Age').mean()\n",
    "df{'Embarked'} = df{'Embarked'}.fillnallna(df{'EM'}.mode()[0])\n",
    "df.info()"
   ]
  },
  {
   "cell_type": "code",
   "execution_count": null,
   "id": "2ea9670b",
   "metadata": {},
   "outputs": [],
   "source": [
    "from sklean.preprosessing import LabelEncoder\n",
    "\n",
    "cat_feature = ['sex', 'Embarked']\n",
    "\n",
    "for col in cat_features:\n",
    "    lbl = LabelEncoderlEncoder()\n",
    "    df[col = lbl.fit_tranform(list(df[com].values))"
   ]
  },
  {
   "cell_type": "code",
   "execution_count": null,
   "id": "b731d1d2",
   "metadata": {},
   "outputs": [],
   "source": [
    "x = df.drop(columns=['passengri', 'kesumono', 'tiket', 'Cabin'])\n",
    "y = df{'Suvived'}"
   ]
  },
  {
   "cell_type": "code",
   "execution_count": null,
   "id": "5e6bb5bc",
   "metadata": {},
   "outputs": [],
   "source": [
    "x_train, x_test, y_train, ytest = train_test_split(xm, y , random_state=0)"
   ]
  },
  {
   "cell_type": "code",
   "execution_count": null,
   "id": "d9c8323b",
   "metadata": {},
   "outputs": [],
   "source": [
    "tree = DeisonTreeClassifier().fit(x_train, y_train)\n",
    "tree.score(x_traineatm, ytest)"
   ]
  },
  {
   "cell_type": "code",
   "execution_count": null,
   "id": "6f1a21fa",
   "metadata": {},
   "outputs": [],
   "source": [
    "rnd_forest = RandomProestClassifier(n_estmatores=500, max_depth=5, random_stae).fot(x_train, y_traoj)"
   ]
  },
  {
   "cell_type": "code",
   "execution_count": null,
   "id": "a06d0792",
   "metadata": {},
   "outputs": [],
   "source": [
    "test_df = pd.read_csv('tst.csv')\n",
    "test_df.head()"
   ]
  },
  {
   "cell_type": "code",
   "execution_count": null,
   "id": "4e3bddb1",
   "metadata": {},
   "outputs": [],
   "source": [
    "test_df.info()"
   ]
  },
  {
   "cell_type": "code",
   "execution_count": null,
   "id": "391b0860",
   "metadata": {},
   "outputs": [],
   "source": [
    "prediciton = rand_forest.predict(x_pred)\n",
    "predicton"
   ]
  },
  {
   "cell_type": "code",
   "execution_count": null,
   "id": "525b0d2d",
   "metadata": {},
   "outputs": [],
   "source": [
    "submisson  pd.DataFrame({\n",
    "    'Passengekd': ID,\n",
    "    'Survived': predicton\n",
    "})\n",
    "submisson"
   ]
  },
  {
   "cell_type": "code",
   "execution_count": null,
   "id": "64f26a13",
   "metadata": {},
   "outputs": [],
   "source": [
    "submisson.to_csv('submisson_csv', index=False)"
   ]
  }
 ],
 "metadata": {
  "kernelspec": {
   "display_name": "Python 3",
   "language": "python",
   "name": "python3"
  },
  "language_info": {
   "codemirror_mode": {
    "name": "ipython",
    "version": 3
   },
   "file_extension": ".py",
   "mimetype": "text/x-python",
   "name": "python",
   "nbconvert_exporter": "python",
   "pygments_lexer": "ipython3",
   "version": "3.8.8"
  }
 },
 "nbformat": 4,
 "nbformat_minor": 5
}
